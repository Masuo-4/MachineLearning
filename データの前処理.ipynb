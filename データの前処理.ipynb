{
 "cells": [
  {
   "cell_type": "markdown",
   "metadata": {},
   "source": [
    "# データの前処理"
   ]
  },
  {
   "cell_type": "markdown",
   "metadata": {},
   "source": [
    "## Numpy\n"
   ]
  },
  {
   "cell_type": "markdown",
   "metadata": {},
   "source": [
    "### ベクトルの作成\n",
    "```np.arange, np.linspace, np.repeat, np.tile, np.isin(x, y)```"
   ]
  },
  {
   "cell_type": "markdown",
   "metadata": {},
   "source": [
    "- ```np.arange(x, y, z)```\n",
    "    - xからyまでの等差zの等差ベクトル\n",
    "- ```np.linspace(x, y, n)```\n",
    "    - xからyまで長さnの等差ベクトル\n",
    "- ```np.repeat(vec, n)```\n",
    "    - vecの要素をn回ずつ繰り返す\n",
    "- ```np.tile(vec, n)```\n",
    "    - vecをn回繰り返す\n",
    "- ```np.isin(x, y)```\n",
    "    - xはyに含まれているか？"
   ]
  },
  {
   "cell_type": "markdown",
   "metadata": {},
   "source": [
    "## Pandas"
   ]
  },
  {
   "cell_type": "markdown",
   "metadata": {},
   "source": [
    "### メソッドチェーン\n",
    "- メソッドを繋げて、同じ動作を繰り返しても結果が変わらない様にする"
   ]
  },
  {
   "cell_type": "markdown",
   "metadata": {},
   "source": [
    "```\n",
    "#good\n",
    "df.assign(sepal_length = lambda x: x[\"sepal_length\"] + x[\"sepal_width\"])\\\n",
    "    .query(\"sepal_length > 8\")\n",
    "\n",
    "#bad\n",
    "df = df.assign(sepal_length=lambda x: x[\"sepal_length\"] + x[\"sepal_width\"])\n",
    "df_rev = df.query(\"sepal_length > 8\")\n",
    "```"
   ]
  },
  {
   "cell_type": "markdown",
   "metadata": {},
   "source": [
    "### データフレーム処理\n",
    "```query, filter, assign, merge, concat, group_by, sort_values, drop_dupulicated, melt(pivot)```"
   ]
  },
  {
   "cell_type": "markdown",
   "metadata": {},
   "source": [
    "#### query:  行の抽出"
   ]
  },
  {
   "cell_type": "markdown",
   "metadata": {},
   "source": [
    "\n",
    "```\n",
    "#good\n",
    "df.query(\"depth >= 62 & color == 'H\")\n",
    "\n",
    "#bad\n",
    "df[(df[\"depth\"] >= 62) & (df[\"color\"] == \"H\")]\n",
    "```"
   ]
  },
  {
   "cell_type": "markdown",
   "metadata": {},
   "source": [
    "#### filter: 列の抽出"
   ]
  },
  {
   "cell_type": "markdown",
   "metadata": {},
   "source": [
    "引数\n",
    "- items\n",
    "    - 列名を指定する, 引数itemsは省略可\n",
    "- like\n",
    "    - 列名の一部を指定する\n",
    "- regex\n",
    "    - 列名の一部を正規表現で指定する\n",
    "\n",
    "データ型指定\n",
    "- select_dtypes(データ型)\n",
    "    - 指定したデータ型に該当する列を抽出"
   ]
  },
  {
   "cell_type": "markdown",
   "metadata": {},
   "source": [
    "```\n",
    "#good\n",
    "df.filter([\"sepal_length\"])\n",
    "\n",
    "#bad\n",
    "df[[\"sepal_length\"]]\n",
    "```"
   ]
  },
  {
   "cell_type": "markdown",
   "metadata": {},
   "source": [
    "#### assign: 列の追加、更新"
   ]
  },
  {
   "cell_type": "markdown",
   "metadata": {},
   "source": [
    "- 既存の列は更新、新規の列は追加"
   ]
  },
  {
   "cell_type": "markdown",
   "metadata": {},
   "source": [
    "```\n",
    "df.assign(\n",
    "    color = \"color\",\n",
    "    new_1 = 1,\n",
    "    new_2 = 2\n",
    ")\n",
    "```"
   ]
  },
  {
   "cell_type": "markdown",
   "metadata": {},
   "source": [
    "- 関数を指定すると、関数を適応した列に更新、もしくは列を新たに追加してくれる"
   ]
  },
  {
   "cell_type": "markdown",
   "metadata": {},
   "source": [
    "```\n",
    "#dfにfunc_1を適応した結果をnew列として追加\n",
    "df.assign(new = func_1)\n",
    "```"
   ]
  },
  {
   "cell_type": "markdown",
   "metadata": {},
   "source": [
    "- np.whereを用いて、条件によって列に追加する項目を変えられる"
   ]
  },
  {
   "cell_type": "markdown",
   "metadata": {},
   "source": [
    "```\n",
    "#color列がEなら”E\",違うなら\"not_E\"をnew列に追加\n",
    "df.assign(\n",
    "    new = lambda x:np.where(\n",
    "        x[\"color\"] == \"E\",\n",
    "        \"E\",\n",
    "        \"not_E\"\n",
    "        )\n",
    ")\n",
    "```"
   ]
  },
  {
   "cell_type": "markdown",
   "metadata": {},
   "source": [
    "#### merge: キー結合"
   ]
  },
  {
   "cell_type": "markdown",
   "metadata": {},
   "source": [
    "```\n",
    "pd.merge(df_name, df_group, how=\"inner\")\n",
    "```\n",
    "その他、left, right, outerがある。\n",
    "\n"
   ]
  },
  {
   "cell_type": "markdown",
   "metadata": {},
   "source": [
    "#### concat: 縦横結合"
   ]
  },
  {
   "cell_type": "markdown",
   "metadata": {},
   "source": [
    "- ignore_index=Trueがおすすめ"
   ]
  },
  {
   "cell_type": "markdown",
   "metadata": {},
   "source": [
    "```pd.concat([df1, df2], axis=0, ignore_index=True)```"
   ]
  },
  {
   "cell_type": "markdown",
   "metadata": {},
   "source": [
    "- 連番ではないindexは、reset_indexで解除"
   ]
  },
  {
   "cell_type": "markdown",
   "metadata": {},
   "source": [
    "```\n",
    "df_name_bad.reset_index(drop=True)\n",
    "```"
   ]
  },
  {
   "cell_type": "markdown",
   "metadata": {},
   "source": [
    "#### group_by: グルーピング"
   ]
  },
  {
   "cell_type": "markdown",
   "metadata": {},
   "source": [
    "- dfにこの後も処理を続ける場合は、as_index=Falseにすると良い\n",
    "```\n",
    "df.groupby([\"class\", \"gender\"], as_index=False).mean()\n",
    "```"
   ]
  },
  {
   "cell_type": "markdown",
   "metadata": {},
   "source": [
    "- 特定のグループ取得は.get_group(\"a\")\n",
    "```\n",
    "df.groupby(\"class\").get_group(\"a\")\n",
    "```"
   ]
  },
  {
   "cell_type": "markdown",
   "metadata": {},
   "source": [
    "#### sort_values: ソート"
   ]
  },
  {
   "cell_type": "markdown",
   "metadata": {},
   "source": [
    "- ascending=Falseで大きい順\n",
    "```\n",
    "df.sort_values(\"depth\", ascending=False)\n",
    "```\n"
   ]
  },
  {
   "cell_type": "markdown",
   "metadata": {},
   "source": [
    "#### drop_duplicates: 重複削除"
   ]
  },
  {
   "cell_type": "markdown",
   "metadata": {},
   "source": [
    "- 一番最初のものが残る\n",
    "```\n",
    "df.drop_duplicates([\"cut\", \"color\"])\n",
    "```"
   ]
  },
  {
   "cell_type": "markdown",
   "metadata": {},
   "source": [
    "#### melt,pivot: 縦横変換"
   ]
  },
  {
   "cell_type": "markdown",
   "metadata": {},
   "source": [
    "![melt, pivot](img/melt_pivot.png) "
   ]
  },
  {
   "cell_type": "markdown",
   "metadata": {},
   "source": [
    "- wide型をlong型に変換\n",
    "```\n",
    "df_wide.melt(\n",
    "    id_vars=\"store\",\n",
    "    value_vars=[\"orange\", \"apple\"], \n",
    "    var_name=\"fruit\",\n",
    "    value_name=\"price\"\n",
    ")\n",
    "```"
   ]
  },
  {
   "cell_type": "markdown",
   "metadata": {},
   "source": [
    "- long型をwide型に変換\n",
    "```\n",
    "df_long.pivot(\n",
    "    index=\"store\",\n",
    "    columns=\"fruit\",\n",
    "    values=\"proce\",\n",
    ")\n",
    "```"
   ]
  },
  {
   "cell_type": "markdown",
   "metadata": {},
   "source": [
    "### 文字列処理"
   ]
  },
  {
   "cell_type": "markdown",
   "metadata": {},
   "source": []
  }
 ],
 "metadata": {
  "kernelspec": {
   "display_name": "Python 3.9.13 64-bit",
   "language": "python",
   "name": "python3"
  },
  "language_info": {
   "codemirror_mode": {
    "name": "ipython",
    "version": 3
   },
   "file_extension": ".py",
   "mimetype": "text/x-python",
   "name": "python",
   "nbconvert_exporter": "python",
   "pygments_lexer": "ipython3",
   "version": "3.9.13"
  },
  "orig_nbformat": 4,
  "vscode": {
   "interpreter": {
    "hash": "aee8b7b246df8f9039afb4144a1f6fd8d2ca17a180786b69acc140d282b71a49"
   }
  }
 },
 "nbformat": 4,
 "nbformat_minor": 2
}

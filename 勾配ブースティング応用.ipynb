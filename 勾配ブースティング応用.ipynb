{
 "cells": [
  {
   "cell_type": "markdown",
   "metadata": {},
   "source": [
    "# 勾配ブースティング応用(XGBoost, LightGBM, CatBoost)"
   ]
  },
  {
   "cell_type": "markdown",
   "metadata": {},
   "source": [
    "## XGBoost(eXtreme Gradient Boosting)\n",
    "- GBDTに正則化項を加えることで過学習を防ぐ\n",
    "    - 木が大きくなりすぎないようにする\n",
    "    - 一つのモデルで残差を大きく減らさないようにする"
   ]
  },
  {
   "cell_type": "markdown",
   "metadata": {},
   "source": [
    "### データ準備"
   ]
  },
  {
   "cell_type": "code",
   "execution_count": 33,
   "metadata": {},
   "outputs": [],
   "source": [
    "import seaborn as sns\n",
    "import numpy as np\n",
    "from sklearn.preprocessing import OrdinalEncoder\n",
    "from sklearn.model_selection import train_test_split\n",
    "from sklearn.metrics import roc_auc_score\n",
    "# データ準備\n",
    "df = sns.load_dataset('titanic')\n",
    "df.dropna(inplace=True)\n",
    "# X, yを作成\n",
    "X = df.drop(['survived', 'alive'], axis=1)\n",
    "y = df['survived']\n",
    "# ラベルエンコーディング\n",
    "oe = OrdinalEncoder()\n",
    "# oe.set_output(transform='pandas')\n",
    "cat_cols = X.select_dtypes(exclude=np.number).columns.to_list()\n",
    "X[cat_cols] = oe.fit_transform(X[cat_cols])\n",
    "# hold-out\n",
    "X_train, X_test, y_train, y_test = train_test_split(X, y, test_size=0.3, random_state=0)\n"
   ]
  },
  {
   "cell_type": "markdown",
   "metadata": {},
   "source": [
    "### 実装\n",
    "-  xgboost.XGBClassifierクラス\n",
    "    - n_estimators: イテレーションの回数（弱学習器の数）\n",
    "    - learning_rate: shrinkageパラメータのn\n",
    "    - eval_metric: early stoppingに使用する評価指標(sklearn.metricsのメソッドを指定)\n",
    "    - early_stopping_rounds: early stoppingする際の最低限のイテレーション回数\n",
    "    - impotance_type: デフォルトだと\"weight\"(頻度)になっているので\"total_gain\"を指定する\n",
    "- .fit(X, y)で学習\n",
    "    - eval_set: 各イテレーション毎に評価したいデータ 例: [(X_val, y_val)]\n",
    "    - verbose: Trueを指定すると各イテレーションの評価結果をprintする\n",
    "- .predict(X)で予測\n",
    "- xgboost.plot_tree(model, num_trees)で任意の木構造を描画(graphvizが必要)"
   ]
  },
  {
   "cell_type": "code",
   "execution_count": 13,
   "metadata": {},
   "outputs": [
    {
     "name": "stdout",
     "output_type": "stream",
     "text": [
      "[0]\tvalidation_0-auc:0.89904\n"
     ]
    },
    {
     "name": "stdout",
     "output_type": "stream",
     "text": [
      "[1]\tvalidation_0-auc:0.89663\n",
      "[2]\tvalidation_0-auc:0.89663\n",
      "[3]\tvalidation_0-auc:0.89663\n",
      "[4]\tvalidation_0-auc:0.89663\n",
      "[5]\tvalidation_0-auc:0.89663\n",
      "[6]\tvalidation_0-auc:0.89103\n",
      "[7]\tvalidation_0-auc:0.89103\n",
      "[8]\tvalidation_0-auc:0.88942\n",
      "[9]\tvalidation_0-auc:0.89103\n",
      "[10]\tvalidation_0-auc:0.88622\n"
     ]
    },
    {
     "data": {
      "text/plain": [
       "XGBClassifier(base_score=0.5, booster='gbtree', callbacks=None,\n",
       "              colsample_bylevel=1, colsample_bynode=1, colsample_bytree=1,\n",
       "              early_stopping_rounds=10, enable_categorical=False,\n",
       "              eval_metric='auc', gamma=0, gpu_id=-1, grow_policy='depthwise',\n",
       "              importance_type='total_gain', interaction_constraints='',\n",
       "              learning_rate=0.01, max_bin=256, max_cat_to_onehot=4,\n",
       "              max_delta_step=0, max_depth=6, max_leaves=0, min_child_weight=1,\n",
       "              missing=nan, monotone_constraints='()', n_estimators=100,\n",
       "              n_jobs=0, num_parallel_tree=1, objective='binary:logistic',\n",
       "              predictor='auto', random_state=0, reg_alpha=0, ...)"
      ]
     },
     "execution_count": 13,
     "metadata": {},
     "output_type": "execute_result"
    }
   ],
   "source": [
    "from xgboost import XGBClassifier\n",
    "xgb = XGBClassifier(learning_rate=0.01,\n",
    "              eval_metric=\"auc\",\n",
    "              early_stopping_rounds=10,\n",
    "              importance_type=\"total_gain\",\n",
    "              random_state=0)\n",
    "\n",
    "xgb.fit(X_train, y_train, eval_set=[(X_test, y_test)], verbose=True)# 本当は検証用データを用いる\n"
   ]
  },
  {
   "cell_type": "code",
   "execution_count": 14,
   "metadata": {},
   "outputs": [
    {
     "name": "stdout",
     "output_type": "stream",
     "text": [
      "xgboost AUC: 0.8990384615384616\n"
     ]
    }
   ],
   "source": [
    "from sklearn.metrics import roc_auc_score\n",
    "y_pred_xgb = xgb.predict_proba(X_test) # 本当はテストデータを用いる\n",
    "print(f\"xgboost AUC: {roc_auc_score(y_test, y_pred_xgb[:, 1])}\")"
   ]
  },
  {
   "cell_type": "markdown",
   "metadata": {},
   "source": [
    "## Light GBM(Light Gradient Boosted Machine)\n",
    "XGBoostよりも高速で精度が高くなるケースが多い\n",
    "- leaf wise\n",
    "    - 最も損失が小さくなるようなノードから分割する方法で決定木を作ることで高速化\n",
    "- histogram based\n",
    "    - データをヒストグラム化し、bin単位で分割する方法で決定木のノードを分割することで高速化\n",
    "- Gradient-based One-Side Sampling(GOSS)\n",
    "    - 残差が小さいデータの一部を学習に使わないことで学習データを減らし高速化\n",
    "- Exclusive Feature Bundling(EFB)\n",
    "    - 互いに排他的な複数の特徴量を一つにまとめ(bundle化)、それぞれの特徴量の値の範囲が被らないように値をずらし、特徴量数を減らし高速化"
   ]
  },
  {
   "cell_type": "markdown",
   "metadata": {},
   "source": [
    "### データ準備"
   ]
  },
  {
   "cell_type": "code",
   "execution_count": 2,
   "metadata": {},
   "outputs": [],
   "source": [
    "import seaborn as sns\n",
    "import numpy as np\n",
    "from sklearn.preprocessing import OrdinalEncoder\n",
    "from sklearn.model_selection import train_test_split\n",
    "from sklearn.metrics import roc_auc_score\n",
    "# データ準備\n",
    "df = sns.load_dataset('titanic')\n",
    "df.dropna(inplace=True)\n",
    "# X, yを作成\n",
    "X = df.drop(['survived', 'alive'], axis=1)\n",
    "y = df['survived']\n",
    "# ラベルエンコーディング\n",
    "oe = OrdinalEncoder()\n",
    "# oe.set_output(transform='pandas')\n",
    "cat_cols = X.select_dtypes(exclude=np.number).columns.to_list()\n",
    "X[cat_cols] = oe.fit_transform(X[cat_cols])\n",
    "# hold-out\n",
    "X_train, X_test, y_train, y_test = train_test_split(X, y, test_size=0.3, random_state=0)\n"
   ]
  },
  {
   "cell_type": "markdown",
   "metadata": {},
   "source": [
    "### 実装\n",
    "- lightgbm.LGBMClassifierクラス\n",
    "    - n_estimators: イテレーションの回数(弱学習器の数)\n",
    "    - learning_rate: shrinkageパラメータのn\n",
    "    - boosting_type: ブースティングアルゴリズムを指定\n",
    "        - \"gbdt\", \"dart\", \"goss\", \"rf\"から選択\n",
    "    - max_depth: 決定木の最大の深さ\n",
    "- .fit(X, y)で学習\n",
    "    - eval_set:各イテレーション毎に評価したいデータ　例: [(X_val, y_val)]\n",
    "    -callbacks: 各イテレーション時に実行する関数のリスト(early stoppingに使用)\n",
    "- lgb.plot_metric(model)で学習曲線を描画"
   ]
  },
  {
   "cell_type": "code",
   "execution_count": 6,
   "metadata": {},
   "outputs": [
    {
     "name": "stdout",
     "output_type": "stream",
     "text": [
      "[1]\tvalid_0's binary_logloss: 0.56902\n",
      "Training until validation scores don't improve for 10 rounds\n",
      "[2]\tvalid_0's binary_logloss: 0.536293\n",
      "[3]\tvalid_0's binary_logloss: 0.50876\n",
      "[4]\tvalid_0's binary_logloss: 0.485108\n",
      "[5]\tvalid_0's binary_logloss: 0.464864\n",
      "[6]\tvalid_0's binary_logloss: 0.447251\n",
      "[7]\tvalid_0's binary_logloss: 0.433086\n",
      "[8]\tvalid_0's binary_logloss: 0.41859\n",
      "[9]\tvalid_0's binary_logloss: 0.408127\n",
      "[10]\tvalid_0's binary_logloss: 0.400311\n",
      "[11]\tvalid_0's binary_logloss: 0.400311\n",
      "[12]\tvalid_0's binary_logloss: 0.400311\n",
      "[13]\tvalid_0's binary_logloss: 0.400311\n",
      "[14]\tvalid_0's binary_logloss: 0.400311\n",
      "[15]\tvalid_0's binary_logloss: 0.400311\n",
      "[16]\tvalid_0's binary_logloss: 0.400311\n",
      "[17]\tvalid_0's binary_logloss: 0.400311\n",
      "[18]\tvalid_0's binary_logloss: 0.400311\n",
      "[19]\tvalid_0's binary_logloss: 0.400311\n",
      "[20]\tvalid_0's binary_logloss: 0.400311\n",
      "Early stopping, best iteration is:\n",
      "[10]\tvalid_0's binary_logloss: 0.400311\n"
     ]
    },
    {
     "data": {
      "text/plain": [
       "LGBMClassifier(boosting_type='goss', class_weight=None, colsample_bytree=1.0,\n",
       "               importance_type='split', learning_rate=0.1, max_depth=5,\n",
       "               min_child_samples=20, min_child_weight=0.001, min_split_gain=0.0,\n",
       "               n_estimators=100, n_jobs=-1, num_leaves=31, objective=None,\n",
       "               random_state=0, reg_alpha=0.0, reg_lambda=0.0, silent='warn',\n",
       "               subsample=1.0, subsample_for_bin=200000, subsample_freq=0)"
      ]
     },
     "execution_count": 6,
     "metadata": {},
     "output_type": "execute_result"
    }
   ],
   "source": [
    "# !pip install lightgbm==3.3.1\n",
    "import lightgbm as lgb\n",
    "lgbmc = lgb.LGBMClassifier(boosting_type='goss', max_depth=5, random_state=0)\n",
    "# early stoppingに使用する検証データ\n",
    "eval_set = [(X_test, y_test)]\n",
    "# イテレーション時に実施(callback)する関数\n",
    "callbacks = []\n",
    "callbacks.append(lgb.early_stopping(stopping_rounds=10))\n",
    "callbacks.append(lgb.log_evaluation())\n",
    "# 学習\n",
    "lgbmc.fit(X_train, y_train, eval_set=eval_set, callbacks=callbacks)"
   ]
  },
  {
   "cell_type": "code",
   "execution_count": 7,
   "metadata": {},
   "outputs": [
    {
     "name": "stdout",
     "output_type": "stream",
     "text": [
      "light gbm AUC: 0.9383012820512822\n"
     ]
    }
   ],
   "source": [
    "y_pred_lgbmc = lgbmc.predict_proba(X_test)\n",
    "print(f\"light gbm AUC: {roc_auc_score(y_test, y_pred_lgbmc[:,1])}\")"
   ]
  },
  {
   "cell_type": "markdown",
   "metadata": {},
   "source": [
    "学習曲線を見る。傾斜が急な場合はlearning_rateを下げることを考える。"
   ]
  },
  {
   "cell_type": "code",
   "execution_count": 5,
   "metadata": {},
   "outputs": [
    {
     "data": {
      "text/plain": [
       "<matplotlib.axes._subplots.AxesSubplot at 0x7fdde6d02390>"
      ]
     },
     "execution_count": 5,
     "metadata": {},
     "output_type": "execute_result"
    },
    {
     "data": {
      "image/png": "[encoded data removed]",
      "text/plain": [
       "<Figure size 432x288 with 1 Axes>"
      ]
     },
     "metadata": {
      "needs_background": "light"
     },
     "output_type": "display_data"
    }
   ],
   "source": [
    "lgb.plot_metric(lgbmc)"
   ]
  },
  {
   "cell_type": "markdown",
   "metadata": {},
   "source": [
    "## CatBoost(Category Boosting)\n",
    "XGBoostやLightGBMより後発で、使い勝手が良く高精度が期待できる\n",
    "- Orderd TS(Orderd Target Statistics)\n",
    "    - ランダムに順序を決め、過去のデータからTSを算出する\n",
    "- Ordered Boosting\n",
    "    - 残差の計算に使うモデルを、推論に使うモデル群と分け、過学習を避ける\n",
    "- Symmetric Trees\n",
    "    - 同じ階層では全てのノードで同じ特徴量の同じ条件で分割をする\n",
    "    - 全てのデータに対して共通の処理を行えるので効率が良い\n",
    "    - 特に推論の高速化が期待できる"
   ]
  },
  {
   "cell_type": "markdown",
   "metadata": {},
   "source": [
    "### データ準備"
   ]
  },
  {
   "cell_type": "code",
   "execution_count": 20,
   "metadata": {},
   "outputs": [],
   "source": [
    "import seaborn as sns\n",
    "import numpy as np\n",
    "from sklearn.preprocessing import OrdinalEncoder\n",
    "from sklearn.model_selection import train_test_split\n",
    "from sklearn.metrics import roc_auc_score\n",
    "# データ準備\n",
    "df = sns.load_dataset('titanic')\n",
    "df.dropna(inplace=True)\n",
    "# X, yを作成\n",
    "X = df.drop(['survived', 'alive'], axis=1)\n",
    "y = df['survived']\n",
    "# ラベルエンコーディング\n",
    "oe = OrdinalEncoder()\n",
    "# oe.set_output(transform='pandas')\n",
    "\n",
    "# カテゴリカル変数名のリストを取得\n",
    "cat_cols = X.select_dtypes(exclude=np.number).columns.to_list()\n",
    "# X[cat_cols] = oe.fit_transform(X[cat_cols])\n",
    "# hold-out\n",
    "X_train, X_test, y_train, y_test = train_test_split(X, y, test_size=0.3, random_state=0)\n"
   ]
  },
  {
   "cell_type": "markdown",
   "metadata": {},
   "source": [
    "### 実装\n",
    "- catboost.CatBoostClassifierクラス\n",
    "    - iterations: イテレーションの回数(弱学習器の数)\n",
    "    - learning_rate: 学習率\n",
    "    - cat_features: カテゴリカル変数のカラム名(or index)のリスト\n",
    "- .fit(X, y)で学習\n",
    "    - eval_set: 各イテレーション毎に評価したいデータ 例: [(X_val, y_val)]\n",
    "    - early_stopping_rounds: early stoppingする最の最低限のイテレーション数\n",
    "- .predict(X)で予測\n",
    "- .plot_metric(tree_idx) で任意の木構造を描画"
   ]
  },
  {
   "cell_type": "code",
   "execution_count": 24,
   "metadata": {},
   "outputs": [
    {
     "name": "stdout",
     "output_type": "stream",
     "text": [
      "0:\tlearn: 0.6885366\ttest: 0.6868442\tbest: 0.6868442 (0)\ttotal: 1.8ms\tremaining: 1.8s\n",
      "1:\tlearn: 0.6814490\ttest: 0.6793775\tbest: 0.6793775 (1)\ttotal: 18.6ms\tremaining: 9.29s\n",
      "2:\tlearn: 0.6760508\ttest: 0.6726860\tbest: 0.6726860 (2)\ttotal: 21.9ms\tremaining: 7.29s\n",
      "3:\tlearn: 0.6712676\ttest: 0.6671826\tbest: 0.6671826 (3)\ttotal: 25.3ms\tremaining: 6.3s\n",
      "4:\tlearn: 0.6653107\ttest: 0.6593995\tbest: 0.6593995 (4)\ttotal: 33.4ms\tremaining: 6.65s\n",
      "5:\tlearn: 0.6598695\ttest: 0.6518437\tbest: 0.6518437 (5)\ttotal: 35.5ms\tremaining: 5.87s\n",
      "6:\tlearn: 0.6558456\ttest: 0.6467404\tbest: 0.6467404 (6)\ttotal: 37.5ms\tremaining: 5.32s\n",
      "7:\tlearn: 0.6515199\ttest: 0.6413944\tbest: 0.6413944 (7)\ttotal: 39.5ms\tremaining: 4.9s\n",
      "8:\tlearn: 0.6471426\ttest: 0.6356173\tbest: 0.6356173 (8)\ttotal: 41.5ms\tremaining: 4.57s\n",
      "9:\tlearn: 0.6431772\ttest: 0.6310513\tbest: 0.6310513 (9)\ttotal: 44.1ms\tremaining: 4.36s\n",
      "10:\tlearn: 0.6392733\ttest: 0.6260433\tbest: 0.6260433 (10)\ttotal: 45.6ms\tremaining: 4.1s\n",
      "11:\tlearn: 0.6349835\ttest: 0.6211657\tbest: 0.6211657 (11)\ttotal: 55.1ms\tremaining: 4.54s\n",
      "12:\tlearn: 0.6297353\ttest: 0.6142893\tbest: 0.6142893 (12)\ttotal: 87.8ms\tremaining: 6.67s\n",
      "13:\tlearn: 0.6257014\ttest: 0.6089575\tbest: 0.6089575 (13)\ttotal: 91.6ms\tremaining: 6.45s\n",
      "14:\tlearn: 0.6228797\ttest: 0.6047456\tbest: 0.6047456 (14)\ttotal: 101ms\tremaining: 6.61s\n",
      "15:\tlearn: 0.6192839\ttest: 0.5997640\tbest: 0.5997640 (15)\ttotal: 106ms\tremaining: 6.5s\n",
      "16:\tlearn: 0.6159293\ttest: 0.5952244\tbest: 0.5952244 (16)\ttotal: 109ms\tremaining: 6.28s\n",
      "17:\tlearn: 0.6123541\ttest: 0.5915089\tbest: 0.5915089 (17)\ttotal: 111ms\tremaining: 6.08s\n",
      "18:\tlearn: 0.6087682\ttest: 0.5869566\tbest: 0.5869566 (18)\ttotal: 114ms\tremaining: 5.91s\n",
      "19:\tlearn: 0.6059512\ttest: 0.5828794\tbest: 0.5828794 (19)\ttotal: 116ms\tremaining: 5.68s\n",
      "20:\tlearn: 0.6036528\ttest: 0.5793081\tbest: 0.5793081 (20)\ttotal: 119ms\tremaining: 5.54s\n",
      "21:\tlearn: 0.6003103\ttest: 0.5749759\tbest: 0.5749759 (21)\ttotal: 129ms\tremaining: 5.71s\n",
      "22:\tlearn: 0.5964854\ttest: 0.5704424\tbest: 0.5704424 (22)\ttotal: 134ms\tremaining: 5.7s\n",
      "23:\tlearn: 0.5934784\ttest: 0.5674007\tbest: 0.5674007 (23)\ttotal: 139ms\tremaining: 5.65s\n",
      "24:\tlearn: 0.5905832\ttest: 0.5630047\tbest: 0.5630047 (24)\ttotal: 152ms\tremaining: 5.94s\n",
      "25:\tlearn: 0.5877747\ttest: 0.5590216\tbest: 0.5590216 (25)\ttotal: 155ms\tremaining: 5.82s\n",
      "26:\tlearn: 0.5846401\ttest: 0.5552102\tbest: 0.5552102 (26)\ttotal: 169ms\tremaining: 6.08s\n",
      "27:\tlearn: 0.5817498\ttest: 0.5512282\tbest: 0.5512282 (27)\ttotal: 171ms\tremaining: 5.95s\n",
      "28:\tlearn: 0.5786049\ttest: 0.5475847\tbest: 0.5475847 (28)\ttotal: 181ms\tremaining: 6.06s\n",
      "29:\tlearn: 0.5754786\ttest: 0.5445350\tbest: 0.5445350 (29)\ttotal: 185ms\tremaining: 5.98s\n",
      "30:\tlearn: 0.5716935\ttest: 0.5420616\tbest: 0.5420616 (30)\ttotal: 198ms\tremaining: 6.17s\n",
      "31:\tlearn: 0.5687822\ttest: 0.5388880\tbest: 0.5388880 (31)\ttotal: 203ms\tremaining: 6.13s\n",
      "32:\tlearn: 0.5666806\ttest: 0.5357234\tbest: 0.5357234 (32)\ttotal: 204ms\tremaining: 5.98s\n",
      "33:\tlearn: 0.5645686\ttest: 0.5327712\tbest: 0.5327712 (33)\ttotal: 207ms\tremaining: 5.87s\n",
      "34:\tlearn: 0.5617470\ttest: 0.5298380\tbest: 0.5298380 (34)\ttotal: 216ms\tremaining: 5.97s\n",
      "35:\tlearn: 0.5595996\ttest: 0.5267474\tbest: 0.5267474 (35)\ttotal: 220ms\tremaining: 5.9s\n",
      "36:\tlearn: 0.5577272\ttest: 0.5239698\tbest: 0.5239698 (36)\ttotal: 222ms\tremaining: 5.79s\n",
      "37:\tlearn: 0.5560825\ttest: 0.5214636\tbest: 0.5214636 (37)\ttotal: 229ms\tremaining: 5.79s\n",
      "38:\tlearn: 0.5538208\ttest: 0.5182435\tbest: 0.5182435 (38)\ttotal: 235ms\tremaining: 5.79s\n",
      "39:\tlearn: 0.5512437\ttest: 0.5160989\tbest: 0.5160989 (39)\ttotal: 239ms\tremaining: 5.75s\n",
      "40:\tlearn: 0.5483144\ttest: 0.5130560\tbest: 0.5130560 (40)\ttotal: 242ms\tremaining: 5.65s\n",
      "41:\tlearn: 0.5464379\ttest: 0.5103015\tbest: 0.5103015 (41)\ttotal: 243ms\tremaining: 5.53s\n",
      "42:\tlearn: 0.5445973\ttest: 0.5077488\tbest: 0.5077488 (42)\ttotal: 244ms\tremaining: 5.43s\n",
      "43:\tlearn: 0.5427704\ttest: 0.5048449\tbest: 0.5048449 (43)\ttotal: 250ms\tremaining: 5.44s\n",
      "44:\tlearn: 0.5408068\ttest: 0.5021535\tbest: 0.5021535 (44)\ttotal: 254ms\tremaining: 5.38s\n",
      "45:\tlearn: 0.5391001\ttest: 0.4996127\tbest: 0.4996127 (45)\ttotal: 255ms\tremaining: 5.29s\n",
      "46:\tlearn: 0.5374345\ttest: 0.4971224\tbest: 0.4971224 (46)\ttotal: 257ms\tremaining: 5.2s\n",
      "47:\tlearn: 0.5350104\ttest: 0.4945193\tbest: 0.4945193 (47)\ttotal: 260ms\tremaining: 5.15s\n",
      "48:\tlearn: 0.5330865\ttest: 0.4925413\tbest: 0.4925413 (48)\ttotal: 262ms\tremaining: 5.09s\n",
      "49:\tlearn: 0.5301812\ttest: 0.4890776\tbest: 0.4890776 (49)\ttotal: 265ms\tremaining: 5.04s\n",
      "50:\tlearn: 0.5278030\ttest: 0.4862014\tbest: 0.4862014 (50)\ttotal: 267ms\tremaining: 4.96s\n",
      "51:\tlearn: 0.5259231\ttest: 0.4837792\tbest: 0.4837792 (51)\ttotal: 269ms\tremaining: 4.91s\n",
      "52:\tlearn: 0.5241634\ttest: 0.4816042\tbest: 0.4816042 (52)\ttotal: 273ms\tremaining: 4.87s\n",
      "53:\tlearn: 0.5224510\ttest: 0.4796162\tbest: 0.4796162 (53)\ttotal: 275ms\tremaining: 4.81s\n",
      "54:\tlearn: 0.5197941\ttest: 0.4761447\tbest: 0.4761447 (54)\ttotal: 277ms\tremaining: 4.75s\n",
      "55:\tlearn: 0.5181662\ttest: 0.4739650\tbest: 0.4739650 (55)\ttotal: 278ms\tremaining: 4.69s\n",
      "56:\tlearn: 0.5173871\ttest: 0.4733326\tbest: 0.4733326 (56)\ttotal: 279ms\tremaining: 4.62s\n",
      "57:\tlearn: 0.5155455\ttest: 0.4712545\tbest: 0.4712545 (57)\ttotal: 285ms\tremaining: 4.62s\n",
      "58:\tlearn: 0.5142110\ttest: 0.4693126\tbest: 0.4693126 (58)\ttotal: 286ms\tremaining: 4.57s\n",
      "59:\tlearn: 0.5133170\ttest: 0.4691935\tbest: 0.4691935 (59)\ttotal: 289ms\tremaining: 4.53s\n",
      "60:\tlearn: 0.5113435\ttest: 0.4669860\tbest: 0.4669860 (60)\ttotal: 292ms\tremaining: 4.5s\n",
      "61:\tlearn: 0.5102043\ttest: 0.4662848\tbest: 0.4662848 (61)\ttotal: 296ms\tremaining: 4.47s\n",
      "62:\tlearn: 0.5081524\ttest: 0.4633175\tbest: 0.4633175 (62)\ttotal: 297ms\tremaining: 4.42s\n",
      "63:\tlearn: 0.5066716\ttest: 0.4617454\tbest: 0.4617454 (63)\ttotal: 299ms\tremaining: 4.38s\n",
      "64:\tlearn: 0.5052622\ttest: 0.4598564\tbest: 0.4598564 (64)\ttotal: 302ms\tremaining: 4.35s\n",
      "65:\tlearn: 0.5041596\ttest: 0.4582513\tbest: 0.4582513 (65)\ttotal: 305ms\tremaining: 4.31s\n",
      "66:\tlearn: 0.5031970\ttest: 0.4570071\tbest: 0.4570071 (66)\ttotal: 307ms\tremaining: 4.27s\n",
      "67:\tlearn: 0.5018423\ttest: 0.4551051\tbest: 0.4551051 (67)\ttotal: 308ms\tremaining: 4.22s\n",
      "68:\tlearn: 0.5007598\ttest: 0.4534995\tbest: 0.4534995 (68)\ttotal: 312ms\tremaining: 4.21s\n",
      "69:\tlearn: 0.4987456\ttest: 0.4526383\tbest: 0.4526383 (69)\ttotal: 314ms\tremaining: 4.17s\n",
      "70:\tlearn: 0.4966159\ttest: 0.4499937\tbest: 0.4499937 (70)\ttotal: 317ms\tremaining: 4.15s\n",
      "71:\tlearn: 0.4951924\ttest: 0.4479407\tbest: 0.4479407 (71)\ttotal: 319ms\tremaining: 4.12s\n",
      "72:\tlearn: 0.4934289\ttest: 0.4464459\tbest: 0.4464459 (72)\ttotal: 321ms\tremaining: 4.08s\n",
      "73:\tlearn: 0.4914585\ttest: 0.4451893\tbest: 0.4451893 (73)\ttotal: 326ms\tremaining: 4.08s\n",
      "74:\tlearn: 0.4891505\ttest: 0.4439476\tbest: 0.4439476 (74)\ttotal: 329ms\tremaining: 4.06s\n",
      "75:\tlearn: 0.4876853\ttest: 0.4423504\tbest: 0.4423504 (75)\ttotal: 332ms\tremaining: 4.03s\n",
      "76:\tlearn: 0.4866735\ttest: 0.4410485\tbest: 0.4410485 (76)\ttotal: 333ms\tremaining: 4s\n",
      "77:\tlearn: 0.4846050\ttest: 0.4398621\tbest: 0.4398621 (77)\ttotal: 336ms\tremaining: 3.97s\n",
      "78:\tlearn: 0.4834460\ttest: 0.4380912\tbest: 0.4380912 (78)\ttotal: 338ms\tremaining: 3.94s\n",
      "79:\tlearn: 0.4810501\ttest: 0.4364085\tbest: 0.4364085 (79)\ttotal: 341ms\tremaining: 3.92s\n",
      "80:\tlearn: 0.4795620\ttest: 0.4349185\tbest: 0.4349185 (80)\ttotal: 344ms\tremaining: 3.9s\n",
      "81:\tlearn: 0.4778342\ttest: 0.4330924\tbest: 0.4330924 (81)\ttotal: 347ms\tremaining: 3.88s\n",
      "82:\tlearn: 0.4768984\ttest: 0.4322483\tbest: 0.4322483 (82)\ttotal: 352ms\tremaining: 3.89s\n",
      "83:\tlearn: 0.4756576\ttest: 0.4312261\tbest: 0.4312261 (83)\ttotal: 355ms\tremaining: 3.87s\n",
      "84:\tlearn: 0.4750193\ttest: 0.4300254\tbest: 0.4300254 (84)\ttotal: 356ms\tremaining: 3.83s\n",
      "85:\tlearn: 0.4728593\ttest: 0.4289587\tbest: 0.4289587 (85)\ttotal: 360ms\tremaining: 3.83s\n",
      "86:\tlearn: 0.4713270\ttest: 0.4276228\tbest: 0.4276228 (86)\ttotal: 363ms\tremaining: 3.81s\n",
      "87:\tlearn: 0.4702003\ttest: 0.4266927\tbest: 0.4266927 (87)\ttotal: 368ms\tremaining: 3.81s\n",
      "88:\tlearn: 0.4701247\ttest: 0.4265627\tbest: 0.4265627 (88)\ttotal: 369ms\tremaining: 3.78s\n",
      "89:\tlearn: 0.4687561\ttest: 0.4258227\tbest: 0.4258227 (89)\ttotal: 374ms\tremaining: 3.78s\n",
      "90:\tlearn: 0.4665683\ttest: 0.4237702\tbest: 0.4237702 (90)\ttotal: 376ms\tremaining: 3.76s\n",
      "91:\tlearn: 0.4654816\ttest: 0.4229496\tbest: 0.4229496 (91)\ttotal: 379ms\tremaining: 3.74s\n",
      "92:\tlearn: 0.4647316\ttest: 0.4218051\tbest: 0.4218051 (92)\ttotal: 381ms\tremaining: 3.71s\n",
      "93:\tlearn: 0.4638832\ttest: 0.4208226\tbest: 0.4208226 (93)\ttotal: 383ms\tremaining: 3.69s\n",
      "94:\tlearn: 0.4620718\ttest: 0.4190979\tbest: 0.4190979 (94)\ttotal: 385ms\tremaining: 3.66s\n",
      "95:\tlearn: 0.4609688\ttest: 0.4180640\tbest: 0.4180640 (95)\ttotal: 387ms\tremaining: 3.64s\n",
      "96:\tlearn: 0.4598000\ttest: 0.4174645\tbest: 0.4174645 (96)\ttotal: 390ms\tremaining: 3.63s\n",
      "97:\tlearn: 0.4577815\ttest: 0.4160873\tbest: 0.4160873 (97)\ttotal: 392ms\tremaining: 3.61s\n",
      "98:\tlearn: 0.4566318\ttest: 0.4151728\tbest: 0.4151728 (98)\ttotal: 395ms\tremaining: 3.6s\n",
      "99:\tlearn: 0.4545690\ttest: 0.4132234\tbest: 0.4132234 (99)\ttotal: 398ms\tremaining: 3.58s\n",
      "100:\tlearn: 0.4539922\ttest: 0.4122602\tbest: 0.4122602 (100)\ttotal: 401ms\tremaining: 3.57s\n",
      "101:\tlearn: 0.4529063\ttest: 0.4113384\tbest: 0.4113384 (101)\ttotal: 405ms\tremaining: 3.57s\n",
      "102:\tlearn: 0.4520020\ttest: 0.4111436\tbest: 0.4111436 (102)\ttotal: 408ms\tremaining: 3.55s\n",
      "103:\tlearn: 0.4508769\ttest: 0.4099632\tbest: 0.4099632 (103)\ttotal: 409ms\tremaining: 3.53s\n",
      "104:\tlearn: 0.4493931\ttest: 0.4082664\tbest: 0.4082664 (104)\ttotal: 414ms\tremaining: 3.53s\n",
      "105:\tlearn: 0.4486184\ttest: 0.4075025\tbest: 0.4075025 (105)\ttotal: 417ms\tremaining: 3.52s\n",
      "106:\tlearn: 0.4475918\ttest: 0.4066528\tbest: 0.4066528 (106)\ttotal: 419ms\tremaining: 3.5s\n",
      "107:\tlearn: 0.4471947\ttest: 0.4062006\tbest: 0.4062006 (107)\ttotal: 420ms\tremaining: 3.47s\n",
      "108:\tlearn: 0.4462182\ttest: 0.4054002\tbest: 0.4054002 (108)\ttotal: 426ms\tremaining: 3.48s\n",
      "109:\tlearn: 0.4450630\ttest: 0.4044417\tbest: 0.4044417 (109)\ttotal: 436ms\tremaining: 3.53s\n",
      "110:\tlearn: 0.4435597\ttest: 0.4036472\tbest: 0.4036472 (110)\ttotal: 441ms\tremaining: 3.54s\n",
      "111:\tlearn: 0.4426948\ttest: 0.4026546\tbest: 0.4026546 (111)\ttotal: 444ms\tremaining: 3.52s\n",
      "112:\tlearn: 0.4411615\ttest: 0.4017203\tbest: 0.4017203 (112)\ttotal: 448ms\tremaining: 3.52s\n",
      "113:\tlearn: 0.4401612\ttest: 0.4011233\tbest: 0.4011233 (113)\ttotal: 450ms\tremaining: 3.5s\n",
      "114:\tlearn: 0.4383373\ttest: 0.4006388\tbest: 0.4006388 (114)\ttotal: 452ms\tremaining: 3.48s\n",
      "115:\tlearn: 0.4373746\ttest: 0.4004154\tbest: 0.4004154 (115)\ttotal: 454ms\tremaining: 3.46s\n",
      "116:\tlearn: 0.4355159\ttest: 0.3999646\tbest: 0.3999646 (116)\ttotal: 457ms\tremaining: 3.45s\n",
      "117:\tlearn: 0.4349353\ttest: 0.4002055\tbest: 0.3999646 (116)\ttotal: 460ms\tremaining: 3.44s\n",
      "118:\tlearn: 0.4340037\ttest: 0.3996140\tbest: 0.3996140 (118)\ttotal: 462ms\tremaining: 3.42s\n",
      "119:\tlearn: 0.4333057\ttest: 0.3987412\tbest: 0.3987412 (119)\ttotal: 464ms\tremaining: 3.4s\n",
      "120:\tlearn: 0.4321639\ttest: 0.3981047\tbest: 0.3981047 (120)\ttotal: 467ms\tremaining: 3.39s\n",
      "121:\tlearn: 0.4312836\ttest: 0.3975749\tbest: 0.3975749 (121)\ttotal: 470ms\tremaining: 3.38s\n",
      "122:\tlearn: 0.4301065\ttest: 0.3964132\tbest: 0.3964132 (122)\ttotal: 480ms\tremaining: 3.42s\n",
      "123:\tlearn: 0.4293128\ttest: 0.3959549\tbest: 0.3959549 (123)\ttotal: 494ms\tremaining: 3.49s\n",
      "124:\tlearn: 0.4288285\ttest: 0.3953476\tbest: 0.3953476 (124)\ttotal: 499ms\tremaining: 3.49s\n",
      "125:\tlearn: 0.4283289\ttest: 0.3953596\tbest: 0.3953476 (124)\ttotal: 503ms\tremaining: 3.49s\n",
      "126:\tlearn: 0.4277377\ttest: 0.3951833\tbest: 0.3951833 (126)\ttotal: 506ms\tremaining: 3.48s\n",
      "127:\tlearn: 0.4264857\ttest: 0.3950875\tbest: 0.3950875 (127)\ttotal: 510ms\tremaining: 3.47s\n",
      "128:\tlearn: 0.4255240\ttest: 0.3943455\tbest: 0.3943455 (128)\ttotal: 516ms\tremaining: 3.48s\n",
      "129:\tlearn: 0.4234931\ttest: 0.3937669\tbest: 0.3937669 (129)\ttotal: 520ms\tremaining: 3.48s\n",
      "130:\tlearn: 0.4223377\ttest: 0.3929616\tbest: 0.3929616 (130)\ttotal: 525ms\tremaining: 3.48s\n",
      "131:\tlearn: 0.4216184\ttest: 0.3920860\tbest: 0.3920860 (131)\ttotal: 530ms\tremaining: 3.49s\n",
      "132:\tlearn: 0.4206088\ttest: 0.3912857\tbest: 0.3912857 (132)\ttotal: 535ms\tremaining: 3.49s\n",
      "133:\tlearn: 0.4187926\ttest: 0.3902488\tbest: 0.3902488 (133)\ttotal: 543ms\tremaining: 3.51s\n",
      "134:\tlearn: 0.4181448\ttest: 0.3901342\tbest: 0.3901342 (134)\ttotal: 547ms\tremaining: 3.5s\n",
      "135:\tlearn: 0.4169574\ttest: 0.3900754\tbest: 0.3900754 (135)\ttotal: 550ms\tremaining: 3.5s\n",
      "136:\tlearn: 0.4155966\ttest: 0.3892637\tbest: 0.3892637 (136)\ttotal: 555ms\tremaining: 3.5s\n",
      "137:\tlearn: 0.4135989\ttest: 0.3879736\tbest: 0.3879736 (137)\ttotal: 557ms\tremaining: 3.48s\n",
      "138:\tlearn: 0.4125745\ttest: 0.3876307\tbest: 0.3876307 (138)\ttotal: 569ms\tremaining: 3.52s\n",
      "139:\tlearn: 0.4113442\ttest: 0.3875368\tbest: 0.3875368 (139)\ttotal: 582ms\tremaining: 3.57s\n",
      "140:\tlearn: 0.4109786\ttest: 0.3869917\tbest: 0.3869917 (140)\ttotal: 597ms\tremaining: 3.64s\n",
      "141:\tlearn: 0.4098187\ttest: 0.3867484\tbest: 0.3867484 (141)\ttotal: 603ms\tremaining: 3.65s\n",
      "142:\tlearn: 0.4090791\ttest: 0.3869263\tbest: 0.3867484 (141)\ttotal: 608ms\tremaining: 3.64s\n",
      "143:\tlearn: 0.4081403\ttest: 0.3862195\tbest: 0.3862195 (143)\ttotal: 612ms\tremaining: 3.64s\n",
      "144:\tlearn: 0.4068838\ttest: 0.3853533\tbest: 0.3853533 (144)\ttotal: 618ms\tremaining: 3.64s\n",
      "145:\tlearn: 0.4063444\ttest: 0.3849166\tbest: 0.3849166 (145)\ttotal: 621ms\tremaining: 3.63s\n",
      "146:\tlearn: 0.4055139\ttest: 0.3837166\tbest: 0.3837166 (146)\ttotal: 625ms\tremaining: 3.63s\n",
      "147:\tlearn: 0.4045732\ttest: 0.3829196\tbest: 0.3829196 (147)\ttotal: 630ms\tremaining: 3.63s\n",
      "148:\tlearn: 0.4036862\ttest: 0.3822877\tbest: 0.3822877 (148)\ttotal: 632ms\tremaining: 3.61s\n",
      "149:\tlearn: 0.4024831\ttest: 0.3809658\tbest: 0.3809658 (149)\ttotal: 635ms\tremaining: 3.6s\n",
      "150:\tlearn: 0.4014144\ttest: 0.3803610\tbest: 0.3803610 (150)\ttotal: 638ms\tremaining: 3.59s\n",
      "151:\tlearn: 0.4005312\ttest: 0.3802231\tbest: 0.3802231 (151)\ttotal: 642ms\tremaining: 3.58s\n",
      "152:\tlearn: 0.3993072\ttest: 0.3794482\tbest: 0.3794482 (152)\ttotal: 644ms\tremaining: 3.56s\n",
      "153:\tlearn: 0.3989611\ttest: 0.3796376\tbest: 0.3794482 (152)\ttotal: 646ms\tremaining: 3.55s\n",
      "154:\tlearn: 0.3978937\ttest: 0.3793287\tbest: 0.3793287 (154)\ttotal: 650ms\tremaining: 3.54s\n",
      "155:\tlearn: 0.3967442\ttest: 0.3788001\tbest: 0.3788001 (155)\ttotal: 652ms\tremaining: 3.53s\n",
      "156:\tlearn: 0.3962285\ttest: 0.3783161\tbest: 0.3783161 (156)\ttotal: 656ms\tremaining: 3.52s\n",
      "157:\tlearn: 0.3956404\ttest: 0.3783740\tbest: 0.3783161 (156)\ttotal: 658ms\tremaining: 3.51s\n",
      "158:\tlearn: 0.3950695\ttest: 0.3778998\tbest: 0.3778998 (158)\ttotal: 661ms\tremaining: 3.5s\n",
      "159:\tlearn: 0.3945452\ttest: 0.3775862\tbest: 0.3775862 (159)\ttotal: 663ms\tremaining: 3.48s\n",
      "160:\tlearn: 0.3937062\ttest: 0.3775839\tbest: 0.3775839 (160)\ttotal: 666ms\tremaining: 3.47s\n",
      "161:\tlearn: 0.3930157\ttest: 0.3772782\tbest: 0.3772782 (161)\ttotal: 669ms\tremaining: 3.46s\n",
      "162:\tlearn: 0.3921342\ttest: 0.3766379\tbest: 0.3766379 (162)\ttotal: 672ms\tremaining: 3.45s\n",
      "163:\tlearn: 0.3914844\ttest: 0.3767709\tbest: 0.3766379 (162)\ttotal: 674ms\tremaining: 3.44s\n",
      "164:\tlearn: 0.3900598\ttest: 0.3766253\tbest: 0.3766253 (164)\ttotal: 676ms\tremaining: 3.42s\n",
      "165:\tlearn: 0.3897811\ttest: 0.3766413\tbest: 0.3766253 (164)\ttotal: 678ms\tremaining: 3.4s\n",
      "166:\tlearn: 0.3887602\ttest: 0.3766365\tbest: 0.3766253 (164)\ttotal: 680ms\tremaining: 3.39s\n",
      "167:\tlearn: 0.3878371\ttest: 0.3768044\tbest: 0.3766253 (164)\ttotal: 683ms\tremaining: 3.38s\n",
      "168:\tlearn: 0.3870238\ttest: 0.3761604\tbest: 0.3761604 (168)\ttotal: 687ms\tremaining: 3.38s\n",
      "169:\tlearn: 0.3867919\ttest: 0.3759419\tbest: 0.3759419 (169)\ttotal: 690ms\tremaining: 3.37s\n",
      "170:\tlearn: 0.3865311\ttest: 0.3755220\tbest: 0.3755220 (170)\ttotal: 692ms\tremaining: 3.35s\n",
      "171:\tlearn: 0.3863291\ttest: 0.3752773\tbest: 0.3752773 (171)\ttotal: 693ms\tremaining: 3.34s\n",
      "172:\tlearn: 0.3860823\ttest: 0.3749687\tbest: 0.3749687 (172)\ttotal: 695ms\tremaining: 3.32s\n",
      "173:\tlearn: 0.3852182\ttest: 0.3744645\tbest: 0.3744645 (173)\ttotal: 698ms\tremaining: 3.31s\n",
      "174:\tlearn: 0.3846215\ttest: 0.3741786\tbest: 0.3741786 (174)\ttotal: 700ms\tremaining: 3.3s\n",
      "175:\tlearn: 0.3844158\ttest: 0.3739342\tbest: 0.3739342 (175)\ttotal: 702ms\tremaining: 3.29s\n",
      "176:\tlearn: 0.3834088\ttest: 0.3735382\tbest: 0.3735382 (176)\ttotal: 705ms\tremaining: 3.28s\n",
      "177:\tlearn: 0.3825393\ttest: 0.3732360\tbest: 0.3732360 (177)\ttotal: 708ms\tremaining: 3.27s\n",
      "178:\tlearn: 0.3820809\ttest: 0.3732526\tbest: 0.3732360 (177)\ttotal: 710ms\tremaining: 3.26s\n",
      "179:\tlearn: 0.3812145\ttest: 0.3734629\tbest: 0.3732360 (177)\ttotal: 713ms\tremaining: 3.25s\n",
      "180:\tlearn: 0.3802367\ttest: 0.3727728\tbest: 0.3727728 (180)\ttotal: 716ms\tremaining: 3.24s\n",
      "181:\tlearn: 0.3797378\ttest: 0.3729144\tbest: 0.3727728 (180)\ttotal: 719ms\tremaining: 3.23s\n",
      "182:\tlearn: 0.3791684\ttest: 0.3726581\tbest: 0.3726581 (182)\ttotal: 721ms\tremaining: 3.22s\n",
      "183:\tlearn: 0.3787281\ttest: 0.3722946\tbest: 0.3722946 (183)\ttotal: 723ms\tremaining: 3.21s\n",
      "184:\tlearn: 0.3783055\ttest: 0.3722958\tbest: 0.3722946 (183)\ttotal: 726ms\tremaining: 3.2s\n",
      "185:\tlearn: 0.3780187\ttest: 0.3720237\tbest: 0.3720237 (185)\ttotal: 728ms\tremaining: 3.19s\n",
      "186:\tlearn: 0.3774917\ttest: 0.3720493\tbest: 0.3720237 (185)\ttotal: 730ms\tremaining: 3.17s\n",
      "187:\tlearn: 0.3767356\ttest: 0.3725894\tbest: 0.3720237 (185)\ttotal: 733ms\tremaining: 3.17s\n",
      "188:\tlearn: 0.3764537\ttest: 0.3725122\tbest: 0.3720237 (185)\ttotal: 735ms\tremaining: 3.15s\n",
      "189:\tlearn: 0.3756047\ttest: 0.3722021\tbest: 0.3720237 (185)\ttotal: 738ms\tremaining: 3.15s\n",
      "190:\tlearn: 0.3741427\ttest: 0.3722756\tbest: 0.3720237 (185)\ttotal: 740ms\tremaining: 3.13s\n",
      "191:\tlearn: 0.3739466\ttest: 0.3721076\tbest: 0.3720237 (185)\ttotal: 743ms\tremaining: 3.13s\n",
      "192:\tlearn: 0.3725369\ttest: 0.3719112\tbest: 0.3719112 (192)\ttotal: 745ms\tremaining: 3.12s\n",
      "193:\tlearn: 0.3721164\ttest: 0.3715920\tbest: 0.3715920 (193)\ttotal: 748ms\tremaining: 3.11s\n",
      "194:\tlearn: 0.3711259\ttest: 0.3714960\tbest: 0.3714960 (194)\ttotal: 752ms\tremaining: 3.1s\n",
      "195:\tlearn: 0.3704565\ttest: 0.3714082\tbest: 0.3714082 (195)\ttotal: 754ms\tremaining: 3.09s\n",
      "196:\tlearn: 0.3699226\ttest: 0.3715808\tbest: 0.3714082 (195)\ttotal: 756ms\tremaining: 3.08s\n",
      "197:\tlearn: 0.3683071\ttest: 0.3707737\tbest: 0.3707737 (197)\ttotal: 759ms\tremaining: 3.07s\n",
      "198:\tlearn: 0.3677297\ttest: 0.3707624\tbest: 0.3707624 (198)\ttotal: 763ms\tremaining: 3.07s\n",
      "199:\tlearn: 0.3670085\ttest: 0.3701407\tbest: 0.3701407 (199)\ttotal: 766ms\tremaining: 3.06s\n",
      "200:\tlearn: 0.3656473\ttest: 0.3693931\tbest: 0.3693931 (200)\ttotal: 769ms\tremaining: 3.06s\n",
      "201:\tlearn: 0.3649817\ttest: 0.3696253\tbest: 0.3693931 (200)\ttotal: 772ms\tremaining: 3.05s\n",
      "202:\tlearn: 0.3639925\ttest: 0.3687996\tbest: 0.3687996 (202)\ttotal: 774ms\tremaining: 3.04s\n",
      "203:\tlearn: 0.3626357\ttest: 0.3682463\tbest: 0.3682463 (203)\ttotal: 777ms\tremaining: 3.03s\n",
      "204:\tlearn: 0.3620133\ttest: 0.3674737\tbest: 0.3674737 (204)\ttotal: 779ms\tremaining: 3.02s\n",
      "205:\tlearn: 0.3619417\ttest: 0.3675704\tbest: 0.3674737 (204)\ttotal: 780ms\tremaining: 3.01s\n",
      "206:\tlearn: 0.3609820\ttest: 0.3671167\tbest: 0.3671167 (206)\ttotal: 783ms\tremaining: 3s\n",
      "207:\tlearn: 0.3602905\ttest: 0.3675864\tbest: 0.3671167 (206)\ttotal: 789ms\tremaining: 3s\n",
      "208:\tlearn: 0.3597300\ttest: 0.3674109\tbest: 0.3671167 (206)\ttotal: 790ms\tremaining: 2.99s\n",
      "209:\tlearn: 0.3589081\ttest: 0.3671606\tbest: 0.3671167 (206)\ttotal: 793ms\tremaining: 2.98s\n",
      "210:\tlearn: 0.3584379\ttest: 0.3668267\tbest: 0.3668267 (210)\ttotal: 795ms\tremaining: 2.97s\n",
      "211:\tlearn: 0.3584363\ttest: 0.3668209\tbest: 0.3668209 (211)\ttotal: 796ms\tremaining: 2.96s\n",
      "212:\tlearn: 0.3578706\ttest: 0.3663201\tbest: 0.3663201 (212)\ttotal: 799ms\tremaining: 2.95s\n",
      "213:\tlearn: 0.3570223\ttest: 0.3660905\tbest: 0.3660905 (213)\ttotal: 801ms\tremaining: 2.94s\n",
      "214:\tlearn: 0.3564631\ttest: 0.3659276\tbest: 0.3659276 (214)\ttotal: 803ms\tremaining: 2.93s\n",
      "215:\tlearn: 0.3557552\ttest: 0.3658697\tbest: 0.3658697 (215)\ttotal: 806ms\tremaining: 2.92s\n",
      "216:\tlearn: 0.3553830\ttest: 0.3654316\tbest: 0.3654316 (216)\ttotal: 808ms\tremaining: 2.91s\n",
      "217:\tlearn: 0.3551674\ttest: 0.3654178\tbest: 0.3654178 (217)\ttotal: 810ms\tremaining: 2.9s\n",
      "218:\tlearn: 0.3545956\ttest: 0.3648598\tbest: 0.3648598 (218)\ttotal: 812ms\tremaining: 2.9s\n",
      "219:\tlearn: 0.3530577\ttest: 0.3648092\tbest: 0.3648092 (219)\ttotal: 814ms\tremaining: 2.89s\n",
      "220:\tlearn: 0.3527106\ttest: 0.3646204\tbest: 0.3646204 (220)\ttotal: 816ms\tremaining: 2.88s\n",
      "221:\tlearn: 0.3521279\ttest: 0.3648854\tbest: 0.3646204 (220)\ttotal: 819ms\tremaining: 2.87s\n",
      "222:\tlearn: 0.3515826\ttest: 0.3652718\tbest: 0.3646204 (220)\ttotal: 822ms\tremaining: 2.86s\n",
      "223:\tlearn: 0.3512777\ttest: 0.3653486\tbest: 0.3646204 (220)\ttotal: 825ms\tremaining: 2.86s\n",
      "224:\tlearn: 0.3508652\ttest: 0.3651460\tbest: 0.3646204 (220)\ttotal: 828ms\tremaining: 2.85s\n",
      "225:\tlearn: 0.3501331\ttest: 0.3647536\tbest: 0.3646204 (220)\ttotal: 830ms\tremaining: 2.84s\n",
      "226:\tlearn: 0.3500132\ttest: 0.3648698\tbest: 0.3646204 (220)\ttotal: 831ms\tremaining: 2.83s\n",
      "227:\tlearn: 0.3497733\ttest: 0.3648532\tbest: 0.3646204 (220)\ttotal: 834ms\tremaining: 2.82s\n",
      "228:\tlearn: 0.3490682\ttest: 0.3643451\tbest: 0.3643451 (228)\ttotal: 836ms\tremaining: 2.81s\n",
      "229:\tlearn: 0.3486769\ttest: 0.3641762\tbest: 0.3641762 (229)\ttotal: 838ms\tremaining: 2.81s\n",
      "230:\tlearn: 0.3483809\ttest: 0.3639565\tbest: 0.3639565 (230)\ttotal: 841ms\tremaining: 2.8s\n",
      "231:\tlearn: 0.3477911\ttest: 0.3640104\tbest: 0.3639565 (230)\ttotal: 848ms\tremaining: 2.81s\n",
      "232:\tlearn: 0.3471407\ttest: 0.3638224\tbest: 0.3638224 (232)\ttotal: 850ms\tremaining: 2.8s\n",
      "233:\tlearn: 0.3468625\ttest: 0.3636940\tbest: 0.3636940 (233)\ttotal: 854ms\tremaining: 2.79s\n",
      "234:\tlearn: 0.3462293\ttest: 0.3639657\tbest: 0.3636940 (233)\ttotal: 858ms\tremaining: 2.79s\n",
      "235:\tlearn: 0.3457094\ttest: 0.3638662\tbest: 0.3636940 (233)\ttotal: 861ms\tremaining: 2.79s\n",
      "236:\tlearn: 0.3447053\ttest: 0.3632624\tbest: 0.3632624 (236)\ttotal: 863ms\tremaining: 2.78s\n",
      "237:\tlearn: 0.3446902\ttest: 0.3632576\tbest: 0.3632576 (237)\ttotal: 865ms\tremaining: 2.77s\n",
      "238:\tlearn: 0.3446897\ttest: 0.3632549\tbest: 0.3632549 (238)\ttotal: 866ms\tremaining: 2.76s\n",
      "239:\tlearn: 0.3441682\ttest: 0.3630522\tbest: 0.3630522 (239)\ttotal: 869ms\tremaining: 2.75s\n",
      "240:\tlearn: 0.3440205\ttest: 0.3631459\tbest: 0.3630522 (239)\ttotal: 872ms\tremaining: 2.74s\n",
      "241:\tlearn: 0.3424863\ttest: 0.3633407\tbest: 0.3630522 (239)\ttotal: 875ms\tremaining: 2.74s\n",
      "242:\tlearn: 0.3420351\ttest: 0.3628965\tbest: 0.3628965 (242)\ttotal: 878ms\tremaining: 2.73s\n",
      "243:\tlearn: 0.3415083\ttest: 0.3627050\tbest: 0.3627050 (243)\ttotal: 881ms\tremaining: 2.73s\n",
      "244:\tlearn: 0.3402092\ttest: 0.3623838\tbest: 0.3623838 (244)\ttotal: 884ms\tremaining: 2.73s\n",
      "245:\tlearn: 0.3400685\ttest: 0.3623996\tbest: 0.3623838 (244)\ttotal: 886ms\tremaining: 2.71s\n",
      "246:\tlearn: 0.3396718\ttest: 0.3621378\tbest: 0.3621378 (246)\ttotal: 888ms\tremaining: 2.71s\n",
      "247:\tlearn: 0.3394428\ttest: 0.3620325\tbest: 0.3620325 (247)\ttotal: 890ms\tremaining: 2.7s\n",
      "248:\tlearn: 0.3392938\ttest: 0.3616008\tbest: 0.3616008 (248)\ttotal: 892ms\tremaining: 2.69s\n",
      "249:\tlearn: 0.3387319\ttest: 0.3620823\tbest: 0.3616008 (248)\ttotal: 894ms\tremaining: 2.68s\n",
      "250:\tlearn: 0.3380963\ttest: 0.3618804\tbest: 0.3616008 (248)\ttotal: 896ms\tremaining: 2.67s\n",
      "251:\tlearn: 0.3377856\ttest: 0.3617669\tbest: 0.3616008 (248)\ttotal: 899ms\tremaining: 2.67s\n",
      "252:\tlearn: 0.3373301\ttest: 0.3616234\tbest: 0.3616008 (248)\ttotal: 901ms\tremaining: 2.66s\n",
      "253:\tlearn: 0.3361115\ttest: 0.3615820\tbest: 0.3615820 (253)\ttotal: 903ms\tremaining: 2.65s\n",
      "254:\tlearn: 0.3356020\ttest: 0.3613909\tbest: 0.3613909 (254)\ttotal: 906ms\tremaining: 2.65s\n",
      "255:\tlearn: 0.3339742\ttest: 0.3609608\tbest: 0.3609608 (255)\ttotal: 910ms\tremaining: 2.64s\n",
      "256:\tlearn: 0.3336462\ttest: 0.3608839\tbest: 0.3608839 (256)\ttotal: 911ms\tremaining: 2.63s\n",
      "257:\tlearn: 0.3335059\ttest: 0.3610203\tbest: 0.3608839 (256)\ttotal: 913ms\tremaining: 2.63s\n",
      "258:\tlearn: 0.3334103\ttest: 0.3610624\tbest: 0.3608839 (256)\ttotal: 916ms\tremaining: 2.62s\n",
      "259:\tlearn: 0.3330896\ttest: 0.3607536\tbest: 0.3607536 (259)\ttotal: 918ms\tremaining: 2.61s\n",
      "260:\tlearn: 0.3329078\ttest: 0.3608747\tbest: 0.3607536 (259)\ttotal: 920ms\tremaining: 2.6s\n",
      "261:\tlearn: 0.3327204\ttest: 0.3606334\tbest: 0.3606334 (261)\ttotal: 921ms\tremaining: 2.59s\n",
      "262:\tlearn: 0.3320529\ttest: 0.3603032\tbest: 0.3603032 (262)\ttotal: 924ms\tremaining: 2.59s\n",
      "263:\tlearn: 0.3314215\ttest: 0.3601103\tbest: 0.3601103 (263)\ttotal: 926ms\tremaining: 2.58s\n",
      "264:\tlearn: 0.3311540\ttest: 0.3598184\tbest: 0.3598184 (264)\ttotal: 928ms\tremaining: 2.57s\n",
      "265:\tlearn: 0.3301569\ttest: 0.3602806\tbest: 0.3598184 (264)\ttotal: 936ms\tremaining: 2.58s\n",
      "266:\tlearn: 0.3297782\ttest: 0.3599088\tbest: 0.3598184 (264)\ttotal: 940ms\tremaining: 2.58s\n",
      "267:\tlearn: 0.3292274\ttest: 0.3602861\tbest: 0.3598184 (264)\ttotal: 942ms\tremaining: 2.57s\n",
      "268:\tlearn: 0.3288911\ttest: 0.3601834\tbest: 0.3598184 (264)\ttotal: 944ms\tremaining: 2.56s\n",
      "269:\tlearn: 0.3285991\ttest: 0.3601262\tbest: 0.3598184 (264)\ttotal: 946ms\tremaining: 2.56s\n",
      "270:\tlearn: 0.3280316\ttest: 0.3598980\tbest: 0.3598184 (264)\ttotal: 948ms\tremaining: 2.55s\n",
      "271:\tlearn: 0.3276453\ttest: 0.3597494\tbest: 0.3597494 (271)\ttotal: 950ms\tremaining: 2.54s\n",
      "272:\tlearn: 0.3269908\ttest: 0.3590936\tbest: 0.3590936 (272)\ttotal: 952ms\tremaining: 2.53s\n",
      "273:\tlearn: 0.3257755\ttest: 0.3584789\tbest: 0.3584789 (273)\ttotal: 954ms\tremaining: 2.53s\n",
      "274:\tlearn: 0.3255293\ttest: 0.3583724\tbest: 0.3583724 (274)\ttotal: 957ms\tremaining: 2.52s\n",
      "275:\tlearn: 0.3244947\ttest: 0.3578036\tbest: 0.3578036 (275)\ttotal: 959ms\tremaining: 2.52s\n",
      "276:\tlearn: 0.3234760\ttest: 0.3580326\tbest: 0.3578036 (275)\ttotal: 961ms\tremaining: 2.51s\n",
      "277:\tlearn: 0.3232466\ttest: 0.3580723\tbest: 0.3578036 (275)\ttotal: 964ms\tremaining: 2.5s\n",
      "278:\tlearn: 0.3227586\ttest: 0.3584306\tbest: 0.3578036 (275)\ttotal: 967ms\tremaining: 2.5s\n",
      "279:\tlearn: 0.3217194\ttest: 0.3584364\tbest: 0.3578036 (275)\ttotal: 969ms\tremaining: 2.49s\n",
      "280:\tlearn: 0.3214993\ttest: 0.3583189\tbest: 0.3578036 (275)\ttotal: 971ms\tremaining: 2.48s\n",
      "281:\tlearn: 0.3213807\ttest: 0.3581544\tbest: 0.3578036 (275)\ttotal: 972ms\tremaining: 2.48s\n",
      "282:\tlearn: 0.3211167\ttest: 0.3579807\tbest: 0.3578036 (275)\ttotal: 976ms\tremaining: 2.47s\n",
      "283:\tlearn: 0.3204171\ttest: 0.3581221\tbest: 0.3578036 (275)\ttotal: 979ms\tremaining: 2.47s\n",
      "284:\tlearn: 0.3191684\ttest: 0.3578303\tbest: 0.3578036 (275)\ttotal: 981ms\tremaining: 2.46s\n",
      "285:\tlearn: 0.3181532\ttest: 0.3576100\tbest: 0.3576100 (285)\ttotal: 983ms\tremaining: 2.45s\n",
      "286:\tlearn: 0.3173609\ttest: 0.3571578\tbest: 0.3571578 (286)\ttotal: 986ms\tremaining: 2.45s\n",
      "287:\tlearn: 0.3170466\ttest: 0.3573143\tbest: 0.3571578 (286)\ttotal: 988ms\tremaining: 2.44s\n",
      "288:\tlearn: 0.3162532\ttest: 0.3570914\tbest: 0.3570914 (288)\ttotal: 992ms\tremaining: 2.44s\n",
      "289:\tlearn: 0.3160398\ttest: 0.3569658\tbest: 0.3569658 (289)\ttotal: 994ms\tremaining: 2.43s\n",
      "290:\tlearn: 0.3150547\ttest: 0.3569558\tbest: 0.3569558 (290)\ttotal: 998ms\tremaining: 2.43s\n",
      "291:\tlearn: 0.3146525\ttest: 0.3568259\tbest: 0.3568259 (291)\ttotal: 1s\tremaining: 2.43s\n",
      "292:\tlearn: 0.3139444\ttest: 0.3567365\tbest: 0.3567365 (292)\ttotal: 1s\tremaining: 2.42s\n",
      "293:\tlearn: 0.3134091\ttest: 0.3566966\tbest: 0.3566966 (293)\ttotal: 1s\tremaining: 2.41s\n",
      "294:\tlearn: 0.3133614\ttest: 0.3567225\tbest: 0.3566966 (293)\ttotal: 1.01s\tremaining: 2.4s\n",
      "295:\tlearn: 0.3130570\ttest: 0.3563833\tbest: 0.3563833 (295)\ttotal: 1.01s\tremaining: 2.4s\n",
      "296:\tlearn: 0.3127154\ttest: 0.3564814\tbest: 0.3563833 (295)\ttotal: 1.01s\tremaining: 2.39s\n",
      "297:\tlearn: 0.3116594\ttest: 0.3560041\tbest: 0.3560041 (297)\ttotal: 1.01s\tremaining: 2.39s\n",
      "298:\tlearn: 0.3114108\ttest: 0.3559629\tbest: 0.3559629 (298)\ttotal: 1.01s\tremaining: 2.38s\n",
      "299:\tlearn: 0.3109741\ttest: 0.3559923\tbest: 0.3559629 (298)\ttotal: 1.02s\tremaining: 2.37s\n",
      "300:\tlearn: 0.3104807\ttest: 0.3559734\tbest: 0.3559629 (298)\ttotal: 1.02s\tremaining: 2.37s\n",
      "301:\tlearn: 0.3104314\ttest: 0.3558641\tbest: 0.3558641 (301)\ttotal: 1.02s\tremaining: 2.36s\n",
      "302:\tlearn: 0.3102790\ttest: 0.3560032\tbest: 0.3558641 (301)\ttotal: 1.02s\tremaining: 2.35s\n",
      "303:\tlearn: 0.3095320\ttest: 0.3562847\tbest: 0.3558641 (301)\ttotal: 1.03s\tremaining: 2.35s\n",
      "304:\tlearn: 0.3083904\ttest: 0.3562474\tbest: 0.3558641 (301)\ttotal: 1.03s\tremaining: 2.34s\n",
      "305:\tlearn: 0.3079305\ttest: 0.3558227\tbest: 0.3558227 (305)\ttotal: 1.03s\tremaining: 2.34s\n",
      "306:\tlearn: 0.3069087\ttest: 0.3556906\tbest: 0.3556906 (306)\ttotal: 1.03s\tremaining: 2.33s\n",
      "307:\tlearn: 0.3066569\ttest: 0.3559391\tbest: 0.3556906 (306)\ttotal: 1.03s\tremaining: 2.33s\n",
      "308:\tlearn: 0.3061166\ttest: 0.3558012\tbest: 0.3556906 (306)\ttotal: 1.04s\tremaining: 2.32s\n",
      "309:\tlearn: 0.3059939\ttest: 0.3557812\tbest: 0.3556906 (306)\ttotal: 1.04s\tremaining: 2.31s\n",
      "310:\tlearn: 0.3058724\ttest: 0.3558275\tbest: 0.3556906 (306)\ttotal: 1.04s\tremaining: 2.31s\n",
      "311:\tlearn: 0.3052093\ttest: 0.3562417\tbest: 0.3556906 (306)\ttotal: 1.04s\tremaining: 2.3s\n",
      "312:\tlearn: 0.3048410\ttest: 0.3561849\tbest: 0.3556906 (306)\ttotal: 1.05s\tremaining: 2.3s\n",
      "313:\tlearn: 0.3035071\ttest: 0.3557292\tbest: 0.3556906 (306)\ttotal: 1.05s\tremaining: 2.29s\n",
      "314:\tlearn: 0.3033170\ttest: 0.3556339\tbest: 0.3556339 (314)\ttotal: 1.05s\tremaining: 2.29s\n",
      "315:\tlearn: 0.3031818\ttest: 0.3554294\tbest: 0.3554294 (315)\ttotal: 1.06s\tremaining: 2.29s\n",
      "316:\tlearn: 0.3026483\ttest: 0.3555034\tbest: 0.3554294 (315)\ttotal: 1.06s\tremaining: 2.29s\n",
      "317:\tlearn: 0.3025016\ttest: 0.3554275\tbest: 0.3554275 (317)\ttotal: 1.06s\tremaining: 2.28s\n",
      "318:\tlearn: 0.3022802\ttest: 0.3554600\tbest: 0.3554275 (317)\ttotal: 1.07s\tremaining: 2.28s\n",
      "319:\tlearn: 0.3020419\ttest: 0.3552015\tbest: 0.3552015 (319)\ttotal: 1.07s\tremaining: 2.27s\n",
      "320:\tlearn: 0.3016176\ttest: 0.3549463\tbest: 0.3549463 (320)\ttotal: 1.07s\tremaining: 2.27s\n",
      "321:\tlearn: 0.3013086\ttest: 0.3549515\tbest: 0.3549463 (320)\ttotal: 1.07s\tremaining: 2.26s\n",
      "322:\tlearn: 0.3005989\ttest: 0.3555347\tbest: 0.3549463 (320)\ttotal: 1.08s\tremaining: 2.26s\n",
      "323:\tlearn: 0.3004203\ttest: 0.3555280\tbest: 0.3549463 (320)\ttotal: 1.08s\tremaining: 2.25s\n",
      "324:\tlearn: 0.2998515\ttest: 0.3556553\tbest: 0.3549463 (320)\ttotal: 1.08s\tremaining: 2.25s\n",
      "325:\tlearn: 0.2982497\ttest: 0.3560180\tbest: 0.3549463 (320)\ttotal: 1.08s\tremaining: 2.24s\n",
      "326:\tlearn: 0.2980504\ttest: 0.3559358\tbest: 0.3549463 (320)\ttotal: 1.08s\tremaining: 2.23s\n",
      "327:\tlearn: 0.2977330\ttest: 0.3557492\tbest: 0.3549463 (320)\ttotal: 1.09s\tremaining: 2.23s\n",
      "328:\tlearn: 0.2971852\ttest: 0.3554047\tbest: 0.3549463 (320)\ttotal: 1.09s\tremaining: 2.22s\n",
      "329:\tlearn: 0.2970488\ttest: 0.3554823\tbest: 0.3549463 (320)\ttotal: 1.09s\tremaining: 2.21s\n",
      "330:\tlearn: 0.2963542\ttest: 0.3554117\tbest: 0.3549463 (320)\ttotal: 1.09s\tremaining: 2.21s\n",
      "Stopped by overfitting detector  (10 iterations wait)\n",
      "\n",
      "bestTest = 0.354946341\n",
      "bestIteration = 320\n",
      "\n",
      "Shrink model to first 321 iterations.\n"
     ]
    },
    {
     "data": {
      "text/plain": [
       "<catboost.core.CatBoostClassifier at 0x7fddb67bc110>"
      ]
     },
     "execution_count": 24,
     "metadata": {},
     "output_type": "execute_result"
    }
   ],
   "source": [
    "from catboost import CatBoostClassifier\n",
    "import numpy\n",
    "# cat_colsはデータ準備参照\n",
    "cbc = CatBoostClassifier(iterations=1000, learning_rate=0.01, cat_features=cat_cols)\n",
    "eval_set = [(X_test, y_test)] # 本当は検証用データを用いる\n",
    "cbc.fit(X_train, y_train, eval_set=eval_set, early_stopping_rounds=10, verbose=True)"
   ]
  },
  {
   "cell_type": "code",
   "execution_count": 23,
   "metadata": {},
   "outputs": [
    {
     "name": "stdout",
     "output_type": "stream",
     "text": [
      "catboost AUC: 0.8942307692307693\n"
     ]
    }
   ],
   "source": [
    "y_pred_cbc = cbc.predict_proba(X_test) # 本当はテストデータを用いる\n",
    "print(f\"catboost AUC: {roc_auc_score(y_test, y_pred_cbc[:, 1])}\")"
   ]
  }
 ],
 "metadata": {
  "kernelspec": {
   "display_name": "Python 3",
   "language": "python",
   "name": "python3"
  },
  "orig_nbformat": 4
 },
 "nbformat": 4,
 "nbformat_minor": 2
}

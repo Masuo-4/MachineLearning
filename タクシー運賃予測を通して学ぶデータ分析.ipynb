{
 "cells": [
  {
   "cell_type": "markdown",
   "metadata": {},
   "source": [
    "# NY特定地域のタクシー運賃予測\n",
    "乗車位置の緯度経度、降車位置の緯度軽度から運賃(米ドル)を推測\n"
   ]
  },
  {
   "cell_type": "markdown",
   "metadata": {},
   "source": [
    "## データの準備"
   ]
  },
  {
   "cell_type": "code",
   "execution_count": 2,
   "metadata": {},
   "outputs": [],
   "source": [
    "import numpy as np\n",
    "import pandas as pd\n",
    "import matplotlib.pyplot as plt\n",
    "import pandas_profiling as pdp"
   ]
  },
  {
   "cell_type": "code",
   "execution_count": 3,
   "metadata": {},
   "outputs": [],
   "source": [
    "data = pd.read_csv(\"data/data_10k.csv\")"
   ]
  },
  {
   "cell_type": "markdown",
   "metadata": {},
   "source": [
    "## データの概要や、基礎統計量の確認\n",
    "pandas_profilingを使う。"
   ]
  },
  {
   "cell_type": "code",
   "execution_count": 7,
   "metadata": {},
   "outputs": [
    {
     "data": {
      "application/vnd.jupyter.widget-view+json": {
       "model_id": "833a7b6569f04dc3ad15b51f8a8c5b83",
       "version_major": 2,
       "version_minor": 0
      },
      "text/plain": [
       "Summarize dataset:   0%|          | 0/5 [00:00<?, ?it/s]"
      ]
     },
     "metadata": {},
     "output_type": "display_data"
    },
    {
     "data": {
      "application/vnd.jupyter.widget-view+json": {
       "model_id": "6d1a01f5c1b74c0a897c421253de3948",
       "version_major": 2,
       "version_minor": 0
      },
      "text/plain": [
       "Generate report structure:   0%|          | 0/1 [00:00<?, ?it/s]"
      ]
     },
     "metadata": {},
     "output_type": "display_data"
    },
    {
     "data": {
      "application/vnd.jupyter.widget-view+json": {
       "model_id": "25f0d0646f8e4464a4dfe6646f1187d0",
       "version_major": 2,
       "version_minor": 0
      },
      "text/plain": [
       "Render widgets:   0%|          | 0/1 [00:00<?, ?it/s]"
      ]
     },
     "metadata": {},
     "output_type": "display_data"
    },
    {
     "data": {
      "application/vnd.jupyter.widget-view+json": {
       "model_id": "6cd2e1da9e3049e399fa602a8a186ede",
       "version_major": 2,
       "version_minor": 0
      },
      "text/plain": [
       "VBox(children=(Tab(children=(Tab(children=(GridBox(children=(VBox(children=(GridspecLayout(children=(HTML(valu…"
      ]
     },
     "metadata": {},
     "output_type": "display_data"
    }
   ],
   "source": [
    "profile = pdp.ProfileReport(data)\n",
    "# profileのみでも表示可能,to_widgets()の方がコンパクトでノートブック向き\n",
    "profile.to_widgets()\n"
   ]
  },
  {
   "cell_type": "markdown",
   "metadata": {},
   "source": [
    "ちなみに、htmlファイルとしても出力・保存することも可能。"
   ]
  },
  {
   "cell_type": "code",
   "execution_count": 8,
   "metadata": {},
   "outputs": [],
   "source": [
    "# notebook中にhtmlとして表示\n",
    "# profile.to_notebook_iframe()\n",
    "\n",
    "# htmlとして出力\n",
    "# profile.to_file(\"my_report.html\")"
   ]
  },
  {
   "cell_type": "markdown",
   "metadata": {},
   "source": [
    "従属変数であるfare_amountについて、外れ値のせいでヒストグラムが見づらくなっているため、個別で作成。"
   ]
  },
  {
   "cell_type": "code",
   "execution_count": 12,
   "metadata": {},
   "outputs": [
    {
     "data": {
      "text/plain": [
       "<AxesSubplot:>"
      ]
     },
     "execution_count": 12,
     "metadata": {},
     "output_type": "execute_result"
    },
    {
     "data": {
      "image/png": "[encoded data removed]",
      "text/plain": [
       "<Figure size 432x288 with 1 Axes>"
      ]
     },
     "metadata": {
      "needs_background": "light"
     },
     "output_type": "display_data"
    }
   ],
   "source": [
    "# bins=100 で100分割\n",
    "data.fare_amount.hist(bins=100, range=(0, 75))"
   ]
  },
  {
   "cell_type": "markdown",
   "metadata": {},
   "source": [
    "45や50、58あたりで、直感に反するデータが存在する。これらのデータにあって、他のデータにはない特徴を調査することは有益である。"
   ]
  },
  {
   "cell_type": "markdown",
   "metadata": {},
   "source": [
    "また、fare_amountのminが-2.9になっている。これはデータ上妥当なのかを確認する必要がある。"
   ]
  },
  {
   "cell_type": "markdown",
   "metadata": {},
   "source": [
    "## ノイズ除去\n",
    "NY周辺の緯度経度に限定する。"
   ]
  },
  {
   "cell_type": "code",
   "execution_count": 13,
   "metadata": {},
   "outputs": [],
   "source": [
    "# NYを囲む四角を設定\n",
    "ny_left = -74.2632\n",
    "ny_right = -72.9856\n",
    "ny_top = 41.0590\n",
    "ny_bottom = 40.5690"
   ]
  },
  {
   "cell_type": "markdown",
   "metadata": {},
   "source": [
    "これを用いて、criteriaを作成"
   ]
  },
  {
   "cell_type": "code",
   "execution_count": 19,
   "metadata": {},
   "outputs": [
    {
     "data": {
      "text/plain": [
       "0       True\n",
       "1       True\n",
       "2       True\n",
       "3       True\n",
       "4       True\n",
       "        ... \n",
       "9995    True\n",
       "9996    True\n",
       "9997    True\n",
       "9998    True\n",
       "9999    True\n",
       "Length: 10000, dtype: bool"
      ]
     },
     "execution_count": 19,
     "metadata": {},
     "output_type": "execute_result"
    }
   ],
   "source": [
    "criteria = (data.pickup_latitude.between(ny_bottom, ny_top)\n",
    "& data.pickup_longitude.between(ny_left, ny_right)\n",
    "& data.dropoff_latitude.between(ny_bottom, ny_top)\n",
    "& data.dropoff_longitude.between(ny_left, ny_right))\n",
    "criteria"
   ]
  },
  {
   "cell_type": "markdown",
   "metadata": {},
   "source": [
    "ノイズを除去し、以降はclean_dataを用いる。"
   ]
  },
  {
   "cell_type": "code",
   "execution_count": 21,
   "metadata": {},
   "outputs": [],
   "source": [
    "clean_data = data[criteria]"
   ]
  },
  {
   "cell_type": "markdown",
   "metadata": {},
   "source": [
    "## 散布図・二次元ヒストグラム"
   ]
  },
  {
   "cell_type": "markdown",
   "metadata": {},
   "source": [
    "pdpの散布図では分かりづらいため、個別に作成する。"
   ]
  },
  {
   "cell_type": "code",
   "execution_count": 26,
   "metadata": {},
   "outputs": [
    {
     "data": {
      "text/plain": [
       "Text(0.5, 1.0, 'dropoff')"
      ]
     },
     "execution_count": 26,
     "metadata": {},
     "output_type": "execute_result"
    },
    {
     "data": {
      "image/png": "[encoded data removed]",
      "text/plain": [
       "<Figure size 864x432 with 2 Axes>"
      ]
     },
     "metadata": {
      "needs_background": "light"
     },
     "output_type": "display_data"
    }
   ],
   "source": [
    "import matplotlib.pyplot as plt\n",
    "fig, axes = plt.subplots(nrows=1, ncols=2, figsize=(12, 6))\n",
    "axes[0].scatter(clean_data.pickup_longitude, clean_data.pickup_latitude)\n",
    "axes[0].set_title(\"pickup\")\n",
    "axes[1].scatter(clean_data.dropoff_longitude, clean_data.dropoff_latitude)\n",
    "axes[1].set_title(\"dropoff\")"
   ]
  },
  {
   "cell_type": "markdown",
   "metadata": {},
   "source": [
    "もう少し直感的に理解するため、背景に地図画像を挿入する。"
   ]
  },
  {
   "cell_type": "code",
   "execution_count": 27,
   "metadata": {},
   "outputs": [],
   "source": [
    "# まだ用意できていないです\n",
    "# nyc_map = plt.imread(\"nyc_map.png\")"
   ]
  },
  {
   "cell_type": "code",
   "execution_count": 28,
   "metadata": {},
   "outputs": [
    {
     "data": {
      "text/plain": [
       "Text(0.5, 1.0, 'dropoff')"
      ]
     },
     "execution_count": 28,
     "metadata": {},
     "output_type": "execute_result"
    },
    {
     "data": {
      "image/png": "[encoded data removed]",
      "text/plain": [
       "<Figure size 864x432 with 2 Axes>"
      ]
     },
     "metadata": {
      "needs_background": "light"
     },
     "output_type": "display_data"
    }
   ],
   "source": [
    "import matplotlib.pyplot as plt\n",
    "fig, axes = plt.subplots(nrows=1, ncols=2, figsize=(12, 6))\n",
    "axes[0].scatter(clean_data.pickup_longitude, clean_data.pickup_latitude)\n",
    "# axes[0].imshow(nyc_map, extent=(ny_left, ny_right, ny_bottom, ny_top))\n",
    "axes[0].set_title(\"pickup\")\n",
    "axes[1].scatter(clean_data.dropoff_longitude, clean_data.dropoff_latitude)\n",
    "# axes[1].imshow(nyc_map, extent=(ny_left, ny_right, ny_bottom, ny_top))\n",
    "axes[1].set_title(\"dropoff\")\n"
   ]
  },
  {
   "cell_type": "markdown",
   "metadata": {},
   "source": [
    "地図を重ねてみると、マンハッタンの中心部から郊外へ移動している人が一定数いることがわかる。\n",
    "\n",
    "今度は、hist2dを用いてデータ数の密度も可視化してみる。hist2dは、散布図の領域を区分けして、それぞれの区分に属する点の個数を数え上げ色をつける。\n",
    "\n",
    "今回、bins=100, alpha=0.5にすることでより細かく、見やすくする。また、cmin=50にして一つのセルのデータ数が50に満たないセルは表示しないようにすることで、さらに見やすくする。\n",
    "\n",
    "加えて、set_xlimやset_ylimでズームアップを行う。"
   ]
  },
  {
   "cell_type": "code",
   "execution_count": 33,
   "metadata": {},
   "outputs": [
    {
     "data": {
      "text/plain": [
       "Text(0.5, 1.0, 'dropoff')"
      ]
     },
     "execution_count": 33,
     "metadata": {},
     "output_type": "execute_result"
    },
    {
     "data": {
      "image/png": "[encoded data removed]",
      "text/plain": [
       "<Figure size 1728x432 with 2 Axes>"
      ]
     },
     "metadata": {
      "needs_background": "light"
     },
     "output_type": "display_data"
    }
   ],
   "source": [
    "import matplotlib.pyplot as plt\n",
    "fig, axes = plt.subplots(nrows=1, ncols=2, figsize=(24, 6))\n",
    "\n",
    "axes[0].hist2d(clean_data.pickup_longitude,\n",
    "               clean_data.pickup_latitude, bins=100, alpha=0.5, cmin=50)\n",
    "# axes[0].imshow(nyc_map, extent=(ny_left, ny_right, ny_bottom, ny_top))\n",
    "axes[0].set_xlim(-74.2, -73.6)\n",
    "axes[0].set_ylim(40.6, 40.9)\n",
    "axes[0].set_title(\"pickup\")\n",
    "\n",
    "axes[1].hist2d(clean_data.dropoff_longitude,\n",
    "               clean_data.dropoff_latitude, bins=100, alpha=0.5, cmin=50)\n",
    "# axes[1].imshow(nyc_map, extent=(ny_left, ny_right, ny_bottom, ny_top))\n",
    "axes[1].set_xlim(-74.2, -73.6)\n",
    "axes[1].set_ylim(40.6, 40.9)\n",
    "axes[1].set_title(\"dropoff\")\n"
   ]
  },
  {
   "cell_type": "markdown",
   "metadata": {},
   "source": [
    "地図と照らし合わせると、pickupにおいて空港での利用者が一定数いることがわかる。空港からマンハッタンに向けて移動する人が多いのではないかと推測できる。"
   ]
  },
  {
   "cell_type": "markdown",
   "metadata": {},
   "source": [
    "## クラスタ分析\n",
    "データ全体を見るだけでは気づけなかった新たな気づきが得られるかもしれない。"
   ]
  },
  {
   "cell_type": "markdown",
   "metadata": {},
   "source": [
    "ニューヨークセンター、ラガーリア空港、JFK空港の3つのクラスタに手動で分ける。"
   ]
  },
  {
   "cell_type": "code",
   "execution_count": 39,
   "metadata": {},
   "outputs": [
    {
     "data": {
      "text/plain": [
       "8906"
      ]
     },
     "execution_count": 39,
     "metadata": {},
     "output_type": "execute_result"
    }
   ],
   "source": [
    "nyc_lat, nyc_lon = 40.76, -73.98\n",
    "nyc_cluster = (\n",
    "    clean_data.pickup_latitude.between(nyc_lat-0.05, nyc_lat+0.05)&\n",
    "    clean_data.pickup_longitude.between(nyc_lon-0.05, nyc_lon+0.05)\n",
    ")\n",
    "len(clean_data[nyc_cluster])"
   ]
  },
  {
   "cell_type": "code",
   "execution_count": 40,
   "metadata": {},
   "outputs": [
    {
     "data": {
      "text/plain": [
       "259"
      ]
     },
     "execution_count": 40,
     "metadata": {},
     "output_type": "execute_result"
    }
   ],
   "source": [
    "lgr_lat, lgr_lon = 40.77, -73.87\n",
    "lgr_cluster = (\n",
    "    clean_data.pickup_latitude.between(lgr_lat-0.05, lgr_lat+0.05) &\n",
    "    clean_data.pickup_longitude.between(lgr_lon-0.05, lgr_lon+0.05)\n",
    ")\n",
    "len(clean_data[lgr_cluster])"
   ]
  },
  {
   "cell_type": "code",
   "execution_count": 42,
   "metadata": {},
   "outputs": [
    {
     "data": {
      "text/plain": [
       "156"
      ]
     },
     "execution_count": 42,
     "metadata": {},
     "output_type": "execute_result"
    }
   ],
   "source": [
    "jfk_lat, jfk_lon = 40.64, -73.78\n",
    "jfk_cluster = (\n",
    "    clean_data.pickup_latitude.between(jfk_lat-0.05, jfk_lat+0.05) &\n",
    "    clean_data.pickup_longitude.between(jfk_lon-0.05, jfk_lon+0.05)\n",
    ")\n",
    "len(clean_data[jfk_cluster])"
   ]
  },
  {
   "cell_type": "markdown",
   "metadata": {},
   "source": [
    "各クラスターの散布図を作成してみる。この時、range=(0, 100)としてx軸の範囲を揃える"
   ]
  },
  {
   "cell_type": "code",
   "execution_count": 55,
   "metadata": {},
   "outputs": [
    {
     "data": {
      "text/plain": [
       "<AxesSubplot:>"
      ]
     },
     "execution_count": 55,
     "metadata": {},
     "output_type": "execute_result"
    },
    {
     "data": {
      "image/png": "[encoded data removed]",
      "text/plain": [
       "<Figure size 432x216 with 1 Axes>"
      ]
     },
     "metadata": {
      "needs_background": "light"
     },
     "output_type": "display_data"
    }
   ],
   "source": [
    "clean_data[nyc_cluster].fare_amount.hist(\n",
    "    bins=100, figsize=(6, 3), range=(0, 100))\n"
   ]
  },
  {
   "cell_type": "code",
   "execution_count": 52,
   "metadata": {},
   "outputs": [
    {
     "data": {
      "text/plain": [
       "<AxesSubplot:>"
      ]
     },
     "execution_count": 52,
     "metadata": {},
     "output_type": "execute_result"
    },
    {
     "data": {
      "image/png": "[encoded data removed]",
      "text/plain": [
       "<Figure size 432x216 with 1 Axes>"
      ]
     },
     "metadata": {
      "needs_background": "light"
     },
     "output_type": "display_data"
    }
   ],
   "source": [
    "clean_data[lgr_cluster].fare_amount.hist(\n",
    "    bins=100, figsize=(6, 3), range=(0, 100))"
   ]
  },
  {
   "cell_type": "markdown",
   "metadata": {},
   "source": [
    "データ数が少ないので信頼性は低いが、山が二つあるように見える。"
   ]
  },
  {
   "cell_type": "code",
   "execution_count": 53,
   "metadata": {},
   "outputs": [
    {
     "data": {
      "text/plain": [
       "<AxesSubplot:>"
      ]
     },
     "execution_count": 53,
     "metadata": {},
     "output_type": "execute_result"
    },
    {
     "data": {
      "image/png": "[encoded data removed]",
      "text/plain": [
       "<Figure size 432x216 with 1 Axes>"
      ]
     },
     "metadata": {
      "needs_background": "light"
     },
     "output_type": "display_data"
    }
   ],
   "source": [
    "clean_data[jfk_cluster].fare_amount.hist(\n",
    "    bins=100, figsize=(6, 3), range=(0, 100))\n"
   ]
  },
  {
   "cell_type": "markdown",
   "metadata": {},
   "source": [
    "山が存在せず、一定の値に集中している。\n",
    "→ JFK空港発のタクシーでは、定額制のタクシーがあるのではないかと推測できる。"
   ]
  },
  {
   "cell_type": "markdown",
   "metadata": {},
   "source": [
    "## 不完全な数式を考案、補完"
   ]
  },
  {
   "cell_type": "markdown",
   "metadata": {},
   "source": [
    "リッジ回帰を考案"
   ]
  },
  {
   "cell_type": "code",
   "execution_count": 56,
   "metadata": {},
   "outputs": [],
   "source": [
    "from sklearn.linear_model import Ridge\n",
    "clf = Ridge(alpha=1.0)\n"
   ]
  },
  {
   "cell_type": "markdown",
   "metadata": {},
   "source": [
    "データを独立変数と従属変数に分けたのち、リッジ回帰を補完する。\n"
   ]
  },
  {
   "cell_type": "code",
   "execution_count": 71,
   "metadata": {},
   "outputs": [
    {
     "data": {
      "text/plain": [
       "Ridge()"
      ]
     },
     "execution_count": 71,
     "metadata": {},
     "output_type": "execute_result"
    }
   ],
   "source": [
    "from sklearn.model_selection import train_test_split\n",
    "df = clean_data\n",
    "y_col = \"fare_amount\"\n",
    "X = df.drop(columns=[y_col])\n",
    "y = df[y_col]\n",
    "X_train, X_test, y_train, y_test = train_test_split(\n",
    "    X, y, test_size=0.3, random_state=0)\n",
    "\n",
    "clf.fit(X_train, y_train)"
   ]
  },
  {
   "cell_type": "code",
   "execution_count": 72,
   "metadata": {},
   "outputs": [
    {
     "data": {
      "text/plain": [
       "(array([-41.78724266,  91.47879546, -33.19805105,  63.02326913]),\n",
       " Index(['pickup_latitude', 'pickup_longitude', 'dropoff_latitude',\n",
       "        'dropoff_longitude'],\n",
       "       dtype='object'),\n",
       " 14496.244978140587)"
      ]
     },
     "execution_count": 72,
     "metadata": {},
     "output_type": "execute_result"
    }
   ],
   "source": [
    "clf.coef_, X.columns, clf.intercept_"
   ]
  },
  {
   "cell_type": "markdown",
   "metadata": {},
   "source": [
    "## 評価\n",
    "問題設定の効果測定に適した指標を決める。"
   ]
  },
  {
   "cell_type": "markdown",
   "metadata": {},
   "source": [
    "ひとまず、差分を確認してみる。"
   ]
  },
  {
   "cell_type": "code",
   "execution_count": 74,
   "metadata": {},
   "outputs": [
    {
     "data": {
      "text/html": [
       "<div>\n",
       "<style scoped>\n",
       "    .dataframe tbody tr th:only-of-type {\n",
       "        vertical-align: middle;\n",
       "    }\n",
       "\n",
       "    .dataframe tbody tr th {\n",
       "        vertical-align: top;\n",
       "    }\n",
       "\n",
       "    .dataframe thead th {\n",
       "        text-align: right;\n",
       "    }\n",
       "</style>\n",
       "<table border=\"1\" class=\"dataframe\">\n",
       "  <thead>\n",
       "    <tr style=\"text-align: right;\">\n",
       "      <th></th>\n",
       "      <th>true</th>\n",
       "      <th>pred</th>\n",
       "    </tr>\n",
       "  </thead>\n",
       "  <tbody>\n",
       "    <tr>\n",
       "      <th>4546</th>\n",
       "      <td>14.5</td>\n",
       "      <td>10.538765</td>\n",
       "    </tr>\n",
       "    <tr>\n",
       "      <th>9698</th>\n",
       "      <td>9.0</td>\n",
       "      <td>8.946383</td>\n",
       "    </tr>\n",
       "    <tr>\n",
       "      <th>7850</th>\n",
       "      <td>5.3</td>\n",
       "      <td>12.150330</td>\n",
       "    </tr>\n",
       "    <tr>\n",
       "      <th>4970</th>\n",
       "      <td>7.5</td>\n",
       "      <td>10.133227</td>\n",
       "    </tr>\n",
       "    <tr>\n",
       "      <th>4044</th>\n",
       "      <td>8.5</td>\n",
       "      <td>10.186212</td>\n",
       "    </tr>\n",
       "    <tr>\n",
       "      <th>...</th>\n",
       "      <td>...</td>\n",
       "      <td>...</td>\n",
       "    </tr>\n",
       "    <tr>\n",
       "      <th>3978</th>\n",
       "      <td>7.0</td>\n",
       "      <td>10.730169</td>\n",
       "    </tr>\n",
       "    <tr>\n",
       "      <th>8357</th>\n",
       "      <td>6.5</td>\n",
       "      <td>12.063235</td>\n",
       "    </tr>\n",
       "    <tr>\n",
       "      <th>9511</th>\n",
       "      <td>5.0</td>\n",
       "      <td>7.694617</td>\n",
       "    </tr>\n",
       "    <tr>\n",
       "      <th>2149</th>\n",
       "      <td>12.0</td>\n",
       "      <td>10.931173</td>\n",
       "    </tr>\n",
       "    <tr>\n",
       "      <th>7819</th>\n",
       "      <td>10.5</td>\n",
       "      <td>11.161399</td>\n",
       "    </tr>\n",
       "  </tbody>\n",
       "</table>\n",
       "<p>2933 rows × 2 columns</p>\n",
       "</div>"
      ],
      "text/plain": [
       "      true       pred\n",
       "4546  14.5  10.538765\n",
       "9698   9.0   8.946383\n",
       "7850   5.3  12.150330\n",
       "4970   7.5  10.133227\n",
       "4044   8.5  10.186212\n",
       "...    ...        ...\n",
       "3978   7.0  10.730169\n",
       "8357   6.5  12.063235\n",
       "9511   5.0   7.694617\n",
       "2149  12.0  10.931173\n",
       "7819  10.5  11.161399\n",
       "\n",
       "[2933 rows x 2 columns]"
      ]
     },
     "execution_count": 74,
     "metadata": {},
     "output_type": "execute_result"
    }
   ],
   "source": [
    "diff = pd.DataFrame({\n",
    "    \"true\":y_test,\n",
    "    \"pred\": clf.predict(X_test)\n",
    "})\n",
    "diff"
   ]
  },
  {
   "cell_type": "markdown",
   "metadata": {},
   "source": [
    "RSMEを用いて計算"
   ]
  },
  {
   "cell_type": "code",
   "execution_count": 75,
   "metadata": {},
   "outputs": [
    {
     "data": {
      "text/plain": [
       "7.820438143124702"
      ]
     },
     "execution_count": 75,
     "metadata": {},
     "output_type": "execute_result"
    }
   ],
   "source": [
    "def rmse(true_y, pred_y):\n",
    "    return np.sqrt(((true_y - pred_y)**2).mean())\n",
    "\n",
    "rmse(diff[\"true\"], diff[\"pred\"])"
   ]
  },
  {
   "cell_type": "markdown",
   "metadata": {},
   "source": [
    "これは目標精度に届いていないので、数式を見直す"
   ]
  },
  {
   "cell_type": "markdown",
   "metadata": {},
   "source": [
    "## 数式の補完を見直す\n",
    "ハイパラを変えてみよう"
   ]
  },
  {
   "cell_type": "markdown",
   "metadata": {},
   "source": [
    "## 数式の特徴量を見直す\n",
    "工夫しよう"
   ]
  },
  {
   "cell_type": "markdown",
   "metadata": {},
   "source": [
    "## 用いる数式自体を見直す\n",
    "xgboostを使ってみよう"
   ]
  },
  {
   "cell_type": "markdown",
   "metadata": {},
   "source": [
    "## まとめ\n",
    "データ分析は、泥臭さが必要とされるのです。"
   ]
  },
  {
   "cell_type": "markdown",
   "metadata": {},
   "source": []
  }
 ],
 "metadata": {
  "kernelspec": {
   "display_name": "Python 3.9.12 ('base')",
   "language": "python",
   "name": "python3"
  },
  "language_info": {
   "codemirror_mode": {
    "name": "ipython",
    "version": 3
   },
   "file_extension": ".py",
   "mimetype": "text/x-python",
   "name": "python",
   "nbconvert_exporter": "python",
   "pygments_lexer": "ipython3",
   "version": "3.9.12"
  },
  "orig_nbformat": 4,
  "vscode": {
   "interpreter": {
    "hash": "9d62c5b16c209745aa34ea8539afdac5aed4f6a522ca7d73b47d1f0ef4e552e5"
   }
  }
 },
 "nbformat": 4,
 "nbformat_minor": 2
}

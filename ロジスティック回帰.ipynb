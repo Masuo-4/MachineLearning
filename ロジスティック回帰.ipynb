{
 "cells": [
  {
   "cell_type": "markdown",
   "metadata": {},
   "source": [
    "# 2値分類のロジスティック回帰\n",
    "sklearn.linear_model.LogisticRegression\n",
    "- 引数\n",
    "    - penalty: 'l1', 'l2', 'elasticnet', 'none'\n",
    "    - solver: 'newton-cg', 'lbfgs', 'liblinear', 'sag', 'saga'\n",
    "    - multi_class: 'ovr', 'auto', 'multinomial'\n",
    "- .predict(X)でラベル(クラス)の分類結果を取得\n",
    "- .predict_proba(X)でラベル(クラス)の確率p(X)を取得\n",
    "\n",
    "sklearn.metrics.log_loss\n",
    "- log_loss(y_true, y_pred)\n",
    "    - y_predには.predict_proba(X)の戻り値を入れる"
   ]
  },
  {
   "cell_type": "markdown",
   "metadata": {},
   "source": [
    "### データ準備"
   ]
  },
  {
   "cell_type": "code",
   "execution_count": 24,
   "metadata": {},
   "outputs": [],
   "source": [
    "import pandas as pd\n",
    "from sklearn.model_selection import train_test_split\n",
    "import seaborn as sns\n",
    "df = sns.load_dataset('titanic').dropna()\n",
    "X = df.loc[:, (df.columns != 'survived') & (df.columns != 'alive')]\n",
    "X = pd.get_dummies(X, drop_first=True)\n",
    "y = df['survived']\n",
    "X_train, X_test, y_train, y_test = train_test_split(\n",
    "    X, y, test_size=0.3, random_state=0)\n"
   ]
  },
  {
   "cell_type": "markdown",
   "metadata": {},
   "source": [
    "## 実装"
   ]
  },
  {
   "cell_type": "code",
   "execution_count": 20,
   "metadata": {},
   "outputs": [
    {
     "name": "stderr",
     "output_type": "stream",
     "text": [
      "/Users/hiroto/opt/anaconda3/lib/python3.9/site-packages/sklearn/linear_model/_logistic.py:814: ConvergenceWarning: lbfgs failed to converge (status=1):\n",
      "STOP: TOTAL NO. of ITERATIONS REACHED LIMIT.\n",
      "\n",
      "Increase the number of iterations (max_iter) or scale the data as shown in:\n",
      "    https://scikit-learn.org/stable/modules/preprocessing.html\n",
      "Please also refer to the documentation for alternative solver options:\n",
      "    https://scikit-learn.org/stable/modules/linear_model.html#logistic-regression\n",
      "  n_iter_i = _check_optimize_result(\n"
     ]
    }
   ],
   "source": [
    "from sklearn.linear_model import LogisticRegression\n",
    "model = LogisticRegression()\n",
    "model.fit(X_train, y_train)\n",
    "y_pred = model.predict(X_test)\n",
    "y_pred_proba = model.predict_proba(X_test)"
   ]
  },
  {
   "cell_type": "markdown",
   "metadata": {},
   "source": [
    "logloss, coefficient, intercept, classes, features namesなど"
   ]
  },
  {
   "cell_type": "code",
   "execution_count": 23,
   "metadata": {},
   "outputs": [
    {
     "data": {
      "text/plain": [
       "(0.4111567729103682,\n",
       " array([[-0.29613445, -0.02130647,  0.62287823, -0.37405926,  0.00478665,\n",
       "         -0.88713974,  0.17503682,  0.38845621, -0.4045677 , -0.02303382,\n",
       "         -0.4531837 , -0.40475737, -0.88713974,  1.21198449, -0.11127389,\n",
       "         -1.20757958, -0.14162972,  0.61110768, -0.13071674, -0.5516418 ,\n",
       "         -0.4045677 , -0.02303382]]),\n",
       " array([2.14323822]),\n",
       " array([0, 1]),\n",
       " array(['pclass', 'age', 'sibsp', 'parch', 'fare', 'adult_male', 'alone',\n",
       "        'sex_male', 'embarked_Q', 'embarked_S', 'class_Second',\n",
       "        'class_Third', 'who_man', 'who_woman', 'deck_B', 'deck_C',\n",
       "        'deck_D', 'deck_E', 'deck_F', 'deck_G', 'embark_town_Queenstown',\n",
       "        'embark_town_Southampton'], dtype=object))"
      ]
     },
     "execution_count": 23,
     "metadata": {},
     "output_type": "execute_result"
    }
   ],
   "source": [
    "from sklearn.metrics import log_loss\n",
    "log_loss(y_test, y_pred_proba), model.coef_, model.intercept_,\\\n",
    "model.classes_, model.feature_names_in_"
   ]
  },
  {
   "cell_type": "markdown",
   "metadata": {},
   "source": [
    "# 多クラス分類のロジスティック回帰\n",
    "sklearn.linear_model.LogisticRegression\n",
    "- multi_cluss: 'auto', 'ovr', 'multinomial'\n",
    "    - 'auto': solver='liblinear' もしくは2値分類の場合は'ovr'\n",
    "    - 'ovr': One vs Rest\n",
    "    - 'multinomial': 多項ロジスティック回帰"
   ]
  },
  {
   "cell_type": "markdown",
   "metadata": {},
   "source": [
    "### データ準備\n"
   ]
  },
  {
   "cell_type": "code",
   "execution_count": 27,
   "metadata": {},
   "outputs": [
    {
     "name": "stdout",
     "output_type": "stream",
     "text": [
      "105 45\n"
     ]
    }
   ],
   "source": [
    "import seaborn as sns\n",
    "df = sns.load_dataset('iris')\n",
    "y_col = 'species'\n",
    "X = df.loc[:, df.columns!=y_col]\n",
    "y = df[y_col]\n",
    "X_train, X_test, y_train, y_test = train_test_split(\n",
    "    X, y, test_size=0.3, random_state=0)\n",
    "print(len(X_train), len(X_test))"
   ]
  },
  {
   "cell_type": "markdown",
   "metadata": {},
   "source": [
    "## OvR\n",
    "\n",
    "クラスの種類分だけ分類器を作る。計算に時間がかかる。"
   ]
  },
  {
   "cell_type": "code",
   "execution_count": 33,
   "metadata": {},
   "outputs": [],
   "source": [
    "from sklearn.linear_model import LogisticRegression\n",
    "model = LogisticRegression(penalty='none', multi_class='ovr')\n",
    "model.fit(X_train, y_train)\n",
    "y_pred_ovr = model.predict_proba(X_test)"
   ]
  },
  {
   "cell_type": "markdown",
   "metadata": {},
   "source": [
    "interceptやcoefはラベルの種類分だけ作られる。"
   ]
  },
  {
   "cell_type": "code",
   "execution_count": 32,
   "metadata": {},
   "outputs": [
    {
     "data": {
      "text/plain": [
       "(array(['setosa', 'versicolor', 'virginica'], dtype=object),\n",
       " array([   1.11952961,    6.81324426, -255.99667981]),\n",
       " array([[ 1.91635746e+00,  6.80805390e+00, -1.08014054e+01,\n",
       "         -5.01387880e+00],\n",
       "        [-4.15059756e-01, -2.43651049e+00,  1.48863127e+00,\n",
       "         -3.08728666e+00],\n",
       "        [-3.59713655e+02, -2.82241847e+02,  5.44953421e+02,\n",
       "          3.64284106e+02]]))"
      ]
     },
     "execution_count": 32,
     "metadata": {},
     "output_type": "execute_result"
    }
   ],
   "source": [
    "model.classes_, model.intercept_, model.coef_"
   ]
  },
  {
   "cell_type": "code",
   "execution_count": 39,
   "metadata": {},
   "outputs": [
    {
     "data": {
      "text/plain": [
       "array([[2.52308411e-016, 8.82201826e-002, 9.11779817e-001],\n",
       "       [1.28141183e-009, 9.99999999e-001, 5.98424999e-214],\n",
       "       [9.85945513e-001, 1.40544866e-002, 0.00000000e+000],\n",
       "       [2.82376791e-019, 3.87069863e-001, 6.12930137e-001],\n",
       "       [8.87568928e-001, 1.12431072e-001, 0.00000000e+000]])"
      ]
     },
     "execution_count": 39,
     "metadata": {},
     "output_type": "execute_result"
    }
   ],
   "source": [
    "y_pred_ovr[:5]"
   ]
  },
  {
   "cell_type": "markdown",
   "metadata": {},
   "source": [
    "## multinomial\n",
    "\n",
    "ソフトマックス関数を用いる。結果が極端になりやすい。"
   ]
  },
  {
   "cell_type": "code",
   "execution_count": 36,
   "metadata": {},
   "outputs": [],
   "source": [
    "from sklearn.linear_model import LogisticRegression\n",
    "model = LogisticRegression(penalty='none', multi_class='multinomial')\n",
    "model.fit(X_train, y_train)\n",
    "y_pred_mn = model.predict_proba(X_test)"
   ]
  },
  {
   "cell_type": "markdown",
   "metadata": {},
   "source": [
    "OvRとmultinomialで結果は異なる。 "
   ]
  },
  {
   "cell_type": "code",
   "execution_count": 35,
   "metadata": {},
   "outputs": [
    {
     "data": {
      "text/plain": [
       "(array(['setosa', 'versicolor', 'virginica'], dtype=object),\n",
       " array([  80.23761155,  129.79119698, -210.02880853]),\n",
       " array([[ 155.59729672,  358.73830451, -523.93808685, -248.11590736],\n",
       "        [ 118.20297865,  -15.08081949,  -41.54669626,  -91.11017602],\n",
       "        [-273.80027538, -343.65748502,  565.48478311,  339.22608338]]))"
      ]
     },
     "execution_count": 35,
     "metadata": {},
     "output_type": "execute_result"
    }
   ],
   "source": [
    "model.classes_, model.intercept_, model.coef_\n"
   ]
  },
  {
   "cell_type": "markdown",
   "metadata": {},
   "source": [
    "multinomialは、結果が極端になりやすい。"
   ]
  },
  {
   "cell_type": "code",
   "execution_count": 38,
   "metadata": {},
   "outputs": [
    {
     "data": {
      "text/plain": [
       "array([[0.00000000e+000, 3.17565566e-259, 1.00000000e+000],\n",
       "       [0.00000000e+000, 1.00000000e+000, 2.66332546e-242],\n",
       "       [1.00000000e+000, 0.00000000e+000, 0.00000000e+000],\n",
       "       [0.00000000e+000, 8.28139203e-194, 1.00000000e+000],\n",
       "       [1.00000000e+000, 1.68097172e-284, 0.00000000e+000]])"
      ]
     },
     "execution_count": 38,
     "metadata": {},
     "output_type": "execute_result"
    }
   ],
   "source": [
    "y_pred_mn[:5]"
   ]
  }
 ],
 "metadata": {
  "kernelspec": {
   "display_name": "Python 3.9.12 ('base')",
   "language": "python",
   "name": "python3"
  },
  "language_info": {
   "codemirror_mode": {
    "name": "ipython",
    "version": 3
   },
   "file_extension": ".py",
   "mimetype": "text/x-python",
   "name": "python",
   "nbconvert_exporter": "python",
   "pygments_lexer": "ipython3",
   "version": "3.9.12"
  },
  "orig_nbformat": 4,
  "vscode": {
   "interpreter": {
    "hash": "9d62c5b16c209745aa34ea8539afdac5aed4f6a522ca7d73b47d1f0ef4e552e5"
   }
  }
 },
 "nbformat": 4,
 "nbformat_minor": 2
}

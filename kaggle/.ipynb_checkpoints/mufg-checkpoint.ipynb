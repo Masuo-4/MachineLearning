{
 "cells": [
  {
   "cell_type": "code",
   "execution_count": null,
   "metadata": {},
   "outputs": [],
   "source": [
    "import pandas as pd\n",
    "# LightGBMをインポート\n",
    "import lightgbm as lgb\n",
    "from sklearn.model_selection import train_test_split\n",
    "from sklearn.metrics import mean_squared_error\n",
    "\n",
    "# CSVファイルを読み込む\n",
    "df = pd.read_csv('../data/mufg/train.csv')\n",
    "# カテゴリカルな特徴量をカテゴリカル型に変換\n",
    "categorical_features = [\n",
    "    'Educ_background', 'Incumbent', 'Mar_relationship', 'Mortgage',\n",
    "    'Fin_loan', 'Default', 'Prev_result', 'Month', 'Cont_means'\n",
    "]\n",
    "df[categorical_features] = df[categorical_features].astype('category')\n",
    "\n",
    "# 特徴量と目的変数にデータを分割\n",
    "X = df.drop([\"Id\",\"Y\"], axis=1)  # 'y'列を除いた特徴量\n",
    "y = df['Y']               # 目的変数\n",
    "\n",
    "\n",
    "# データを訓練用と検証用に分割\n",
    "X_train, X_val, y_train, y_val = train_test_split(X, y, test_size=0.2, random_state=42)\n",
    "\n",
    "# LightGBMのデータセットを作成\n",
    "train_data = lgb.Dataset(X_train, label=y_train)\n",
    "val_data = lgb.Dataset(X_val, label=y_val, reference=train_data)\n",
    "\n",
    "# ハイパーパラメータの設定\n",
    "params = {\n",
    "    'objective': 'regression',    # 回帰タスク\n",
    "    'metric': 'rmse',             # 評価指標（Root Mean Squared Error）\n",
    "}\n",
    "\n",
    "# モデルの学習\n",
    "num_round = 1000  # 学習のイテレーション数\n",
    "bst = lgb.train(params, train_data, num_round, valid_sets=[val_data])\n",
    "\n",
    "# 検証データを使って予測\n",
    "y_pred = bst.predict(X_val, num_iteration=bst.best_iteration)\n",
    "\n",
    "# RMSEを計算して表示\n",
    "rmse = mean_squared_error(y_val, y_pred, squared=False)\n",
    "print(f'Validation RMSE: {rmse}')\n"
   ]
  },
  {
   "cell_type": "code",
   "execution_count": 2,
   "metadata": {},
   "outputs": [
    {
     "name": "stdout",
     "output_type": "stream",
     "text": [
      "Collecting lightgbm\n",
      "  Obtaining dependency information for lightgbm from https://files.pythonhosted.org/packages/f6/9d/fae632fd823b407448b9cd2b28288172c040415e2c9ab401cca9e67b4192/lightgbm-4.0.0-py3-none-manylinux_2_28_x86_64.whl.metadata\n",
      "  Downloading lightgbm-4.0.0-py3-none-manylinux_2_28_x86_64.whl.metadata (19 kB)\n",
      "Requirement already satisfied: numpy in /opt/anaconda3/lib/python3.7/site-packages (from lightgbm) (1.17.2)\n",
      "Requirement already satisfied: scipy in /opt/anaconda3/lib/python3.7/site-packages (from lightgbm) (1.3.1)\n",
      "Downloading lightgbm-4.0.0-py3-none-manylinux_2_28_x86_64.whl (3.0 MB)\n",
      "\u001b[2K   \u001b[90m━━━━━━━━━━━━━━━━━━━━━━━━━━━━━━━━━━━━━━━━\u001b[0m \u001b[32m3.0/3.0 MB\u001b[0m \u001b[31m8.1 MB/s\u001b[0m eta \u001b[36m0:00:00\u001b[0m:00:01\u001b[0m00:01\u001b[0m\n",
      "\u001b[?25hInstalling collected packages: lightgbm\n",
      "Successfully installed lightgbm-4.0.0\n",
      "\u001b[33mWARNING: Running pip as the 'root' user can result in broken permissions and conflicting behaviour with the system package manager. It is recommended to use a virtual environment instead: https://pip.pypa.io/warnings/venv\u001b[0m\u001b[33m\n",
      "\u001b[0m"
     ]
    }
   ],
   "source": [
    "!pip install lightgbm\n"
   ]
  },
  {
   "cell_type": "code",
   "execution_count": null,
   "metadata": {},
   "outputs": [],
   "source": []
  },
  {
   "cell_type": "code",
   "execution_count": null,
   "metadata": {},
   "outputs": [],
   "source": []
  }
 ],
 "metadata": {
  "kernelspec": {
   "display_name": "Python 3",
   "language": "python",
   "name": "python3"
  },
  "language_info": {
   "codemirror_mode": {
    "name": "ipython",
    "version": 3
   },
   "file_extension": ".py",
   "mimetype": "text/x-python",
   "name": "python",
   "nbconvert_exporter": "python",
   "pygments_lexer": "ipython3",
   "version": "3.7.4"
  }
 },
 "nbformat": 4,
 "nbformat_minor": 4
}
